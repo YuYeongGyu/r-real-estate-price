{
 "cells": [
  {
   "cell_type": "markdown",
   "id": "5c2a2c08-d81c-403d-b5b7-3c361bcce874",
   "metadata": {
    "tags": []
   },
   "source": [
    "# Info\n",
    ": 직접적으로 '상승'과 '하락'과 유사도가 가장 높은 기사 키워드를 찾기위한 코드 방법은 아래와 같다.\n",
    "1. 두 단어와 각각 유사도가 높은 단어들을 구한 후 양쪽에 모두 속하는 단어들을 제거한다.\n",
    "2. 각각 유사한 단어들을 5개씩 구힌디."
   ]
  },
  {
   "cell_type": "code",
   "execution_count": 1,
   "id": "c8bb1a17",
   "metadata": {},
   "outputs": [
    {
     "data": {
      "text/html": [
       "<div>\n",
       "<style scoped>\n",
       "    .dataframe tbody tr th:only-of-type {\n",
       "        vertical-align: middle;\n",
       "    }\n",
       "\n",
       "    .dataframe tbody tr th {\n",
       "        vertical-align: top;\n",
       "    }\n",
       "\n",
       "    .dataframe thead th {\n",
       "        text-align: right;\n",
       "    }\n",
       "</style>\n",
       "<table border=\"1\" class=\"dataframe\">\n",
       "  <thead>\n",
       "    <tr style=\"text-align: right;\">\n",
       "      <th></th>\n",
       "      <th>date</th>\n",
       "      <th>co</th>\n",
       "      <th>headline</th>\n",
       "      <th>week</th>\n",
       "      <th>pos</th>\n",
       "    </tr>\n",
       "  </thead>\n",
       "  <tbody>\n",
       "    <tr>\n",
       "      <th>0</th>\n",
       "      <td>2015.08.09. 오후 11:59</td>\n",
       "      <td>머니투데이</td>\n",
       "      <td>미연준 금리 인상 예고 은행별 주택아파트담보대출 사이트로 해법 찾기</td>\n",
       "      <td>501</td>\n",
       "      <td>[미연, 금리, 인상, 예고, 은행, 주택, 아파트, 담보, 대출, 사이트, 해법]</td>\n",
       "    </tr>\n",
       "    <tr>\n",
       "      <th>1</th>\n",
       "      <td>2015.08.09. 오후 9:52</td>\n",
       "      <td>경향신문</td>\n",
       "      <td>지방 주택시장 과열 양상… 대구 1년 새 집값 11% 올라</td>\n",
       "      <td>501</td>\n",
       "      <td>[지방, 주택, 시장, 과열, 양상, 대구, 년, 집값]</td>\n",
       "    </tr>\n",
       "    <tr>\n",
       "      <th>2</th>\n",
       "      <td>2015.08.09. 오후 8:51</td>\n",
       "      <td>세계일보</td>\n",
       "      <td>전세 시황 계절 요인에… 치솟던 전세가 상승폭 주춤</td>\n",
       "      <td>501</td>\n",
       "      <td>[전세, 시황, 계절, 요인, 전세, 상승, 폭]</td>\n",
       "    </tr>\n",
       "    <tr>\n",
       "      <th>3</th>\n",
       "      <td>2015.08.09. 오후 8:51</td>\n",
       "      <td>세계일보</td>\n",
       "      <td>매매 시황 가계부채 대책 후폭풍… 매매가 상승 둔화</td>\n",
       "      <td>501</td>\n",
       "      <td>[매매, 시황, 가계, 부채, 대책, 후폭풍, 매매, 상승, 둔화]</td>\n",
       "    </tr>\n",
       "    <tr>\n",
       "      <th>4</th>\n",
       "      <td>2015.08.09. 오후 8:49</td>\n",
       "      <td>세계일보</td>\n",
       "      <td>너무 뜨거운 부동산 시장… 손 델라</td>\n",
       "      <td>501</td>\n",
       "      <td>[부동산, 시장, 손]</td>\n",
       "    </tr>\n",
       "    <tr>\n",
       "      <th>...</th>\n",
       "      <td>...</td>\n",
       "      <td>...</td>\n",
       "      <td>...</td>\n",
       "      <td>...</td>\n",
       "      <td>...</td>\n",
       "    </tr>\n",
       "    <tr>\n",
       "      <th>1067224</th>\n",
       "      <td>2015.08.08. 오전 12:02</td>\n",
       "      <td>서울경제</td>\n",
       "      <td>배후수요 풍부 향후 미래가치가 기대되는 천안 레이크타운2차 푸르지오 분양</td>\n",
       "      <td>500</td>\n",
       "      <td>[배후, 수요, 풍부, 향후, 미래, 가치, 기대, 천안, 레이크, 타운, 차, 푸...</td>\n",
       "    </tr>\n",
       "    <tr>\n",
       "      <th>1067225</th>\n",
       "      <td>2015.08.08. 오전 12:02</td>\n",
       "      <td>헤럴드경제</td>\n",
       "      <td>일산아이파크 수도권미분양아파트 모래알 진주찾기</td>\n",
       "      <td>500</td>\n",
       "      <td>[일산, 아이파크, 수도, 미분양, 아파트, 모래알, 진주]</td>\n",
       "    </tr>\n",
       "    <tr>\n",
       "      <th>1067226</th>\n",
       "      <td>2015.08.08. 오전 12:02</td>\n",
       "      <td>헤럴드경제</td>\n",
       "      <td>봉담 코오롱 하늘채 편리한 교통 및 우수한 교육환경 자랑</td>\n",
       "      <td>500</td>\n",
       "      <td>[봉담, 코오롱, 하늘, 편리, 교통, 우수, 교육, 환경, 자랑]</td>\n",
       "    </tr>\n",
       "    <tr>\n",
       "      <th>1067227</th>\n",
       "      <td>2015.08.08. 오전 12:00</td>\n",
       "      <td>경향신문</td>\n",
       "      <td>대명리조트 콘도 회원권으로 여름 휴가 알차게 보내는 방법</td>\n",
       "      <td>500</td>\n",
       "      <td>[대명, 리조트, 콘, 회원, 여름, 휴가, 방법]</td>\n",
       "    </tr>\n",
       "    <tr>\n",
       "      <th>1067228</th>\n",
       "      <td>2015.08.08. 오전 12:00</td>\n",
       "      <td>이데일리</td>\n",
       "      <td>일산아이파크 가격이 더위를 먹었다 “수도권 최고 수준의 41.6% 할인효과”</td>\n",
       "      <td>500</td>\n",
       "      <td>[일산, 아이파크, 가격, 더위, 수도, 최고, 수준, 할인, 효과]</td>\n",
       "    </tr>\n",
       "  </tbody>\n",
       "</table>\n",
       "<p>1065651 rows × 5 columns</p>\n",
       "</div>"
      ],
      "text/plain": [
       "                         date     co  \\\n",
       "0        2015.08.09. 오후 11:59  머니투데이   \n",
       "1         2015.08.09. 오후 9:52   경향신문   \n",
       "2         2015.08.09. 오후 8:51   세계일보   \n",
       "3         2015.08.09. 오후 8:51   세계일보   \n",
       "4         2015.08.09. 오후 8:49   세계일보   \n",
       "...                       ...    ...   \n",
       "1067224  2015.08.08. 오전 12:02   서울경제   \n",
       "1067225  2015.08.08. 오전 12:02  헤럴드경제   \n",
       "1067226  2015.08.08. 오전 12:02  헤럴드경제   \n",
       "1067227  2015.08.08. 오전 12:00   경향신문   \n",
       "1067228  2015.08.08. 오전 12:00   이데일리   \n",
       "\n",
       "                                           headline  week  \\\n",
       "0             미연준 금리 인상 예고 은행별 주택아파트담보대출 사이트로 해법 찾기   501   \n",
       "1                  지방 주택시장 과열 양상… 대구 1년 새 집값 11% 올라   501   \n",
       "2                      전세 시황 계절 요인에… 치솟던 전세가 상승폭 주춤   501   \n",
       "3                      매매 시황 가계부채 대책 후폭풍… 매매가 상승 둔화   501   \n",
       "4                               너무 뜨거운 부동산 시장… 손 델라   501   \n",
       "...                                             ...   ...   \n",
       "1067224    배후수요 풍부 향후 미래가치가 기대되는 천안 레이크타운2차 푸르지오 분양   500   \n",
       "1067225                   일산아이파크 수도권미분양아파트 모래알 진주찾기   500   \n",
       "1067226             봉담 코오롱 하늘채 편리한 교통 및 우수한 교육환경 자랑   500   \n",
       "1067227             대명리조트 콘도 회원권으로 여름 휴가 알차게 보내는 방법   500   \n",
       "1067228  일산아이파크 가격이 더위를 먹었다 “수도권 최고 수준의 41.6% 할인효과”   500   \n",
       "\n",
       "                                                       pos  \n",
       "0           [미연, 금리, 인상, 예고, 은행, 주택, 아파트, 담보, 대출, 사이트, 해법]  \n",
       "1                          [지방, 주택, 시장, 과열, 양상, 대구, 년, 집값]  \n",
       "2                              [전세, 시황, 계절, 요인, 전세, 상승, 폭]  \n",
       "3                    [매매, 시황, 가계, 부채, 대책, 후폭풍, 매매, 상승, 둔화]  \n",
       "4                                             [부동산, 시장, 손]  \n",
       "...                                                    ...  \n",
       "1067224  [배후, 수요, 풍부, 향후, 미래, 가치, 기대, 천안, 레이크, 타운, 차, 푸...  \n",
       "1067225                  [일산, 아이파크, 수도, 미분양, 아파트, 모래알, 진주]  \n",
       "1067226              [봉담, 코오롱, 하늘, 편리, 교통, 우수, 교육, 환경, 자랑]  \n",
       "1067227                       [대명, 리조트, 콘, 회원, 여름, 휴가, 방법]  \n",
       "1067228             [일산, 아이파크, 가격, 더위, 수도, 최고, 수준, 할인, 효과]  \n",
       "\n",
       "[1065651 rows x 5 columns]"
      ]
     },
     "execution_count": 1,
     "metadata": {},
     "output_type": "execute_result"
    }
   ],
   "source": [
    "import pandas as pd\n",
    "import glob\n",
    "\n",
    "file_name = glob.glob('../article/headline_noun_keyword*')\n",
    "\n",
    "keyword_df = []\n",
    "for file in file_name:\n",
    "    df = pd.read_pickle(file)\n",
    "    keyword_df.append(df)\n",
    "\n",
    "keyword_all = pd.concat(keyword_df, ignore_index = True)\n",
    "all_article = keyword_all[keyword_all['week'] <= 807]\n",
    "all_article"
   ]
  },
  {
   "cell_type": "code",
   "execution_count": 2,
   "id": "ee9d6412",
   "metadata": {},
   "outputs": [],
   "source": [
    "tokenized_data = []\n",
    "for keyword in all_article['pos']:\n",
    "    tokenized_data.append(keyword)"
   ]
  },
  {
   "cell_type": "code",
   "execution_count": 3,
   "id": "76885dfc",
   "metadata": {},
   "outputs": [],
   "source": [
    "from gensim.models import Word2Vec\n",
    "\n",
    "model = Word2Vec(sentences = tokenized_data, window = 5, min_count = 500, workers = 4, sg = 1)"
   ]
  },
  {
   "cell_type": "code",
   "execution_count": 4,
   "id": "abdd7cea",
   "metadata": {},
   "outputs": [
    {
     "data": {
      "text/plain": [
       "(2173, 100)"
      ]
     },
     "execution_count": 4,
     "metadata": {},
     "output_type": "execute_result"
    }
   ],
   "source": [
    "model.wv.vectors.shape"
   ]
  },
  {
   "cell_type": "code",
   "execution_count": 5,
   "id": "30588fd6",
   "metadata": {},
   "outputs": [
    {
     "data": {
      "text/plain": [
       "['상승세', '하락', '급등', '오름세', '하락세', '보합', '약세', '폭', '강세', '둔화', '상승']"
      ]
     },
     "execution_count": 5,
     "metadata": {},
     "output_type": "execute_result"
    }
   ],
   "source": [
    "similar_up_origin = [i[0] for i in model.wv.most_similar(\"상승\")]\n",
    "similar_up_origin.append('상승')\n",
    "similar_up_origin"
   ]
  },
  {
   "cell_type": "code",
   "execution_count": 6,
   "id": "5bc65b6d",
   "metadata": {},
   "outputs": [],
   "source": [
    "similar_up_expend = [(suo,model.wv.similarity('상승',suo)) for suo in similar_up_origin]\n",
    "for suo in similar_up_origin:\n",
    "    similar_suo = [i[0] for i in model.wv.most_similar(suo)]\n",
    "    for ssuo in similar_suo:\n",
    "        similar_up_expend.append((ssuo,model.wv.similarity('상승',ssuo)))"
   ]
  },
  {
   "cell_type": "code",
   "execution_count": 7,
   "id": "444e40cd",
   "metadata": {},
   "outputs": [
    {
     "data": {
      "text/html": [
       "<div>\n",
       "<style scoped>\n",
       "    .dataframe tbody tr th:only-of-type {\n",
       "        vertical-align: middle;\n",
       "    }\n",
       "\n",
       "    .dataframe tbody tr th {\n",
       "        vertical-align: top;\n",
       "    }\n",
       "\n",
       "    .dataframe thead th {\n",
       "        text-align: right;\n",
       "    }\n",
       "</style>\n",
       "<table border=\"1\" class=\"dataframe\">\n",
       "  <thead>\n",
       "    <tr style=\"text-align: right;\">\n",
       "      <th></th>\n",
       "      <th>keyword</th>\n",
       "      <th>similarity_with_상승</th>\n",
       "    </tr>\n",
       "  </thead>\n",
       "  <tbody>\n",
       "    <tr>\n",
       "      <th>0</th>\n",
       "      <td>상승</td>\n",
       "      <td>1.000000</td>\n",
       "    </tr>\n",
       "    <tr>\n",
       "      <th>1</th>\n",
       "      <td>상승세</td>\n",
       "      <td>0.828450</td>\n",
       "    </tr>\n",
       "    <tr>\n",
       "      <th>2</th>\n",
       "      <td>하락</td>\n",
       "      <td>0.822300</td>\n",
       "    </tr>\n",
       "    <tr>\n",
       "      <th>3</th>\n",
       "      <td>급등</td>\n",
       "      <td>0.783167</td>\n",
       "    </tr>\n",
       "    <tr>\n",
       "      <th>4</th>\n",
       "      <td>오름세</td>\n",
       "      <td>0.774329</td>\n",
       "    </tr>\n",
       "    <tr>\n",
       "      <th>5</th>\n",
       "      <td>하락세</td>\n",
       "      <td>0.742564</td>\n",
       "    </tr>\n",
       "    <tr>\n",
       "      <th>6</th>\n",
       "      <td>보합</td>\n",
       "      <td>0.702734</td>\n",
       "    </tr>\n",
       "    <tr>\n",
       "      <th>7</th>\n",
       "      <td>약세</td>\n",
       "      <td>0.696168</td>\n",
       "    </tr>\n",
       "    <tr>\n",
       "      <th>8</th>\n",
       "      <td>폭</td>\n",
       "      <td>0.694132</td>\n",
       "    </tr>\n",
       "    <tr>\n",
       "      <th>9</th>\n",
       "      <td>강세</td>\n",
       "      <td>0.691680</td>\n",
       "    </tr>\n",
       "    <tr>\n",
       "      <th>10</th>\n",
       "      <td>둔화</td>\n",
       "      <td>0.677698</td>\n",
       "    </tr>\n",
       "    <tr>\n",
       "      <th>11</th>\n",
       "      <td>고공</td>\n",
       "      <td>0.659039</td>\n",
       "    </tr>\n",
       "    <tr>\n",
       "      <th>12</th>\n",
       "      <td>안정세</td>\n",
       "      <td>0.653932</td>\n",
       "    </tr>\n",
       "    <tr>\n",
       "      <th>13</th>\n",
       "      <td>값</td>\n",
       "      <td>0.615353</td>\n",
       "    </tr>\n",
       "    <tr>\n",
       "      <th>14</th>\n",
       "      <td>소폭</td>\n",
       "      <td>0.609948</td>\n",
       "    </tr>\n",
       "    <tr>\n",
       "      <th>15</th>\n",
       "      <td>급락</td>\n",
       "      <td>0.591809</td>\n",
       "    </tr>\n",
       "    <tr>\n",
       "      <th>16</th>\n",
       "      <td>관망세</td>\n",
       "      <td>0.564143</td>\n",
       "    </tr>\n",
       "    <tr>\n",
       "      <th>17</th>\n",
       "      <td>시황</td>\n",
       "      <td>0.549909</td>\n",
       "    </tr>\n",
       "    <tr>\n",
       "      <th>18</th>\n",
       "      <td>역전</td>\n",
       "      <td>0.453396</td>\n",
       "    </tr>\n",
       "    <tr>\n",
       "      <th>19</th>\n",
       "      <td>풍선</td>\n",
       "      <td>0.440322</td>\n",
       "    </tr>\n",
       "  </tbody>\n",
       "</table>\n",
       "</div>"
      ],
      "text/plain": [
       "   keyword  similarity_with_상승\n",
       "0       상승            1.000000\n",
       "1      상승세            0.828450\n",
       "2       하락            0.822300\n",
       "3       급등            0.783167\n",
       "4      오름세            0.774329\n",
       "5      하락세            0.742564\n",
       "6       보합            0.702734\n",
       "7       약세            0.696168\n",
       "8        폭            0.694132\n",
       "9       강세            0.691680\n",
       "10      둔화            0.677698\n",
       "11      고공            0.659039\n",
       "12     안정세            0.653932\n",
       "13       값            0.615353\n",
       "14      소폭            0.609948\n",
       "15      급락            0.591809\n",
       "16     관망세            0.564143\n",
       "17      시황            0.549909\n",
       "18      역전            0.453396\n",
       "19      풍선            0.440322"
      ]
     },
     "execution_count": 7,
     "metadata": {},
     "output_type": "execute_result"
    }
   ],
   "source": [
    "similar_up_expend = list(set(similar_up_expend))\n",
    "similar_up_df = pd.DataFrame(similar_up_expend)\n",
    "similar_up_df = similar_up_df.sort_values(by = 1, ascending = False,ignore_index = True)\n",
    "similar_up_df.columns = ['keyword','similarity_with_상승']\n",
    "similar_up_df"
   ]
  },
  {
   "cell_type": "code",
   "execution_count": 8,
   "id": "40ad2edd",
   "metadata": {},
   "outputs": [
    {
     "data": {
      "text/plain": [
       "['하락세', '상승', '약세', '보합', '상승세', '오름세', '둔화', '급락', '급등', '안정세', '하락']"
      ]
     },
     "execution_count": 8,
     "metadata": {},
     "output_type": "execute_result"
    }
   ],
   "source": [
    "similar_down_origin = [i[0] for i in model.wv.most_similar(\"하락\")]\n",
    "similar_down_origin.append('하락')\n",
    "similar_down_origin"
   ]
  },
  {
   "cell_type": "code",
   "execution_count": 9,
   "id": "a264bf9f",
   "metadata": {},
   "outputs": [],
   "source": [
    "similar_down_expend = [(suo,model.wv.similarity('하락',suo)) for suo in similar_down_origin]\n",
    "for suo in similar_down_origin:\n",
    "    similar_suo = [i[0] for i in model.wv.most_similar(suo)]\n",
    "    for ssuo in similar_suo:\n",
    "        similar_down_expend.append((ssuo,model.wv.similarity('하락',ssuo)))"
   ]
  },
  {
   "cell_type": "code",
   "execution_count": 10,
   "id": "dd474b1b",
   "metadata": {},
   "outputs": [
    {
     "data": {
      "text/html": [
       "<div>\n",
       "<style scoped>\n",
       "    .dataframe tbody tr th:only-of-type {\n",
       "        vertical-align: middle;\n",
       "    }\n",
       "\n",
       "    .dataframe tbody tr th {\n",
       "        vertical-align: top;\n",
       "    }\n",
       "\n",
       "    .dataframe thead th {\n",
       "        text-align: right;\n",
       "    }\n",
       "</style>\n",
       "<table border=\"1\" class=\"dataframe\">\n",
       "  <thead>\n",
       "    <tr style=\"text-align: right;\">\n",
       "      <th></th>\n",
       "      <th>keyword</th>\n",
       "      <th>similarity_with_하락</th>\n",
       "    </tr>\n",
       "  </thead>\n",
       "  <tbody>\n",
       "    <tr>\n",
       "      <th>0</th>\n",
       "      <td>하락</td>\n",
       "      <td>1.000000</td>\n",
       "    </tr>\n",
       "    <tr>\n",
       "      <th>1</th>\n",
       "      <td>하락세</td>\n",
       "      <td>0.881505</td>\n",
       "    </tr>\n",
       "    <tr>\n",
       "      <th>2</th>\n",
       "      <td>상승</td>\n",
       "      <td>0.822300</td>\n",
       "    </tr>\n",
       "    <tr>\n",
       "      <th>3</th>\n",
       "      <td>약세</td>\n",
       "      <td>0.810064</td>\n",
       "    </tr>\n",
       "    <tr>\n",
       "      <th>4</th>\n",
       "      <td>보합</td>\n",
       "      <td>0.803016</td>\n",
       "    </tr>\n",
       "    <tr>\n",
       "      <th>5</th>\n",
       "      <td>상승세</td>\n",
       "      <td>0.792994</td>\n",
       "    </tr>\n",
       "    <tr>\n",
       "      <th>6</th>\n",
       "      <td>오름세</td>\n",
       "      <td>0.762696</td>\n",
       "    </tr>\n",
       "    <tr>\n",
       "      <th>7</th>\n",
       "      <td>둔화</td>\n",
       "      <td>0.748036</td>\n",
       "    </tr>\n",
       "    <tr>\n",
       "      <th>8</th>\n",
       "      <td>급락</td>\n",
       "      <td>0.719006</td>\n",
       "    </tr>\n",
       "    <tr>\n",
       "      <th>9</th>\n",
       "      <td>급등</td>\n",
       "      <td>0.686892</td>\n",
       "    </tr>\n",
       "    <tr>\n",
       "      <th>10</th>\n",
       "      <td>안정세</td>\n",
       "      <td>0.679038</td>\n",
       "    </tr>\n",
       "    <tr>\n",
       "      <th>11</th>\n",
       "      <td>강세</td>\n",
       "      <td>0.672919</td>\n",
       "    </tr>\n",
       "    <tr>\n",
       "      <th>12</th>\n",
       "      <td>소폭</td>\n",
       "      <td>0.669625</td>\n",
       "    </tr>\n",
       "    <tr>\n",
       "      <th>13</th>\n",
       "      <td>뚝</td>\n",
       "      <td>0.640220</td>\n",
       "    </tr>\n",
       "    <tr>\n",
       "      <th>14</th>\n",
       "      <td>폭</td>\n",
       "      <td>0.639701</td>\n",
       "    </tr>\n",
       "    <tr>\n",
       "      <th>15</th>\n",
       "      <td>관망세</td>\n",
       "      <td>0.630448</td>\n",
       "    </tr>\n",
       "    <tr>\n",
       "      <th>16</th>\n",
       "      <td>시황</td>\n",
       "      <td>0.598668</td>\n",
       "    </tr>\n",
       "    <tr>\n",
       "      <th>17</th>\n",
       "      <td>회복</td>\n",
       "      <td>0.566883</td>\n",
       "    </tr>\n",
       "    <tr>\n",
       "      <th>18</th>\n",
       "      <td>추락</td>\n",
       "      <td>0.517685</td>\n",
       "    </tr>\n",
       "    <tr>\n",
       "      <th>19</th>\n",
       "      <td>역전</td>\n",
       "      <td>0.510925</td>\n",
       "    </tr>\n",
       "    <tr>\n",
       "      <th>20</th>\n",
       "      <td>쇼크</td>\n",
       "      <td>0.483499</td>\n",
       "    </tr>\n",
       "    <tr>\n",
       "      <th>21</th>\n",
       "      <td>풍선</td>\n",
       "      <td>0.408906</td>\n",
       "    </tr>\n",
       "    <tr>\n",
       "      <th>22</th>\n",
       "      <td>최악</td>\n",
       "      <td>0.407028</td>\n",
       "    </tr>\n",
       "  </tbody>\n",
       "</table>\n",
       "</div>"
      ],
      "text/plain": [
       "   keyword  similarity_with_하락\n",
       "0       하락            1.000000\n",
       "1      하락세            0.881505\n",
       "2       상승            0.822300\n",
       "3       약세            0.810064\n",
       "4       보합            0.803016\n",
       "5      상승세            0.792994\n",
       "6      오름세            0.762696\n",
       "7       둔화            0.748036\n",
       "8       급락            0.719006\n",
       "9       급등            0.686892\n",
       "10     안정세            0.679038\n",
       "11      강세            0.672919\n",
       "12      소폭            0.669625\n",
       "13       뚝            0.640220\n",
       "14       폭            0.639701\n",
       "15     관망세            0.630448\n",
       "16      시황            0.598668\n",
       "17      회복            0.566883\n",
       "18      추락            0.517685\n",
       "19      역전            0.510925\n",
       "20      쇼크            0.483499\n",
       "21      풍선            0.408906\n",
       "22      최악            0.407028"
      ]
     },
     "execution_count": 10,
     "metadata": {},
     "output_type": "execute_result"
    }
   ],
   "source": [
    "similar_down_expend = list(set(similar_down_expend))\n",
    "similar_down_df = pd.DataFrame(similar_down_expend)\n",
    "similar_down_df = similar_down_df.sort_values(by = 1, ascending = False,ignore_index = True)\n",
    "similar_down_df.columns = ['keyword','similarity_with_하락']\n",
    "similar_down_df"
   ]
  },
  {
   "cell_type": "markdown",
   "id": "432f4f91",
   "metadata": {},
   "source": [
    "1. 중복된 키워드 지우기"
   ]
  },
  {
   "cell_type": "code",
   "execution_count": 11,
   "id": "3258c3ab",
   "metadata": {},
   "outputs": [
    {
     "data": {
      "text/plain": [
       "['고공', '값']"
      ]
     },
     "execution_count": 11,
     "metadata": {},
     "output_type": "execute_result"
    }
   ],
   "source": [
    "up_word = []\n",
    "_list = [i for i in similar_down_df['keyword']]\n",
    "for i in similar_up_df['keyword']:\n",
    "    if i not in _list:\n",
    "        up_word.append(i)\n",
    "    if len(up_word) == 5:\n",
    "        break\n",
    "up_word"
   ]
  },
  {
   "cell_type": "code",
   "execution_count": 12,
   "id": "bf6b0b4b",
   "metadata": {},
   "outputs": [
    {
     "data": {
      "text/plain": [
       "['뚝', '회복', '추락', '쇼크', '최악']"
      ]
     },
     "execution_count": 12,
     "metadata": {},
     "output_type": "execute_result"
    }
   ],
   "source": [
    "down_word = []\n",
    "_list = [i for i in similar_up_df['keyword']]\n",
    "for i in similar_down_df['keyword']:\n",
    "    if i not in _list:\n",
    "        down_word.append(i)\n",
    "    if len(down_word) == 5:\n",
    "        break\n",
    "down_word"
   ]
  },
  {
   "cell_type": "markdown",
   "id": "2a6be4d7",
   "metadata": {},
   "source": [
    "2. 중복된 키워드가 up에 가까운지 down에 가까운지 확인하고 가까운 쪽으로"
   ]
  },
  {
   "cell_type": "code",
   "execution_count": 13,
   "id": "d0db8e5b",
   "metadata": {},
   "outputs": [
    {
     "data": {
      "text/plain": [
       "['상승', '상승세', '급등', '오름세', '폭']"
      ]
     },
     "execution_count": 13,
     "metadata": {},
     "output_type": "execute_result"
    }
   ],
   "source": [
    "up_word = []\n",
    "_list = [i for i in similar_down_df['keyword']]\n",
    "for i in similar_up_df['keyword']:\n",
    "    if i not in _list:\n",
    "        up_word.append(i)\n",
    "    else:\n",
    "        if float(similar_up_df[similar_up_df['keyword'] == i]['similarity_with_상승']) >= float(similar_down_df[similar_down_df['keyword'] == i]['similarity_with_하락']):\n",
    "            up_word.append(i)\n",
    "    if len(up_word) == 5:\n",
    "        break\n",
    "up_word"
   ]
  },
  {
   "cell_type": "code",
   "execution_count": 14,
   "id": "1a5c9de9",
   "metadata": {},
   "outputs": [
    {
     "data": {
      "text/plain": [
       "['하락', '하락세', '약세', '보합', '둔화']"
      ]
     },
     "execution_count": 14,
     "metadata": {},
     "output_type": "execute_result"
    }
   ],
   "source": [
    "down_word = []\n",
    "_list = [i for i in similar_up_df['keyword']]\n",
    "for i in similar_down_df['keyword']:\n",
    "    if i not in _list:\n",
    "        down_word.append(i)\n",
    "    else:\n",
    "        if float(similar_down_df[similar_down_df['keyword'] == i]['similarity_with_하락']) >= float(similar_up_df[similar_up_df['keyword'] == i]['similarity_with_상승']):\n",
    "            down_word.append(i)\n",
    "    if len(down_word) == 5:\n",
    "        break\n",
    "down_word"
   ]
  },
  {
   "cell_type": "code",
   "execution_count": null,
   "id": "3167ce8b-2f1f-498a-aabe-6ecfa41d2477",
   "metadata": {},
   "outputs": [],
   "source": []
  }
 ],
 "metadata": {
  "kernelspec": {
   "display_name": "Python 3 (ipykernel)",
   "language": "python",
   "name": "python3"
  },
  "language_info": {
   "codemirror_mode": {
    "name": "ipython",
    "version": 3
   },
   "file_extension": ".py",
   "mimetype": "text/x-python",
   "name": "python",
   "nbconvert_exporter": "python",
   "pygments_lexer": "ipython3",
   "version": "3.8.11"
  }
 },
 "nbformat": 4,
 "nbformat_minor": 5
}
