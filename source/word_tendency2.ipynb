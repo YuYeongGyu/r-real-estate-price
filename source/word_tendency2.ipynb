{
 "cells": [
  {
   "cell_type": "markdown",
   "metadata": {},
   "source": [
    "# Info\n",
    ": 기사에 사용된 단어들을 이용해 단어들의 경향성을 찾아내기 위한 코드2"
   ]
  },
  {
   "cell_type": "code",
   "execution_count": 1,
   "metadata": {},
   "outputs": [
    {
     "data": {
      "text/html": [
       "<div>\n",
       "<style scoped>\n",
       "    .dataframe tbody tr th:only-of-type {\n",
       "        vertical-align: middle;\n",
       "    }\n",
       "\n",
       "    .dataframe tbody tr th {\n",
       "        vertical-align: top;\n",
       "    }\n",
       "\n",
       "    .dataframe thead th {\n",
       "        text-align: right;\n",
       "    }\n",
       "</style>\n",
       "<table border=\"1\" class=\"dataframe\">\n",
       "  <thead>\n",
       "    <tr style=\"text-align: right;\">\n",
       "      <th></th>\n",
       "      <th>date</th>\n",
       "      <th>co</th>\n",
       "      <th>headline</th>\n",
       "      <th>week</th>\n",
       "      <th>pos</th>\n",
       "    </tr>\n",
       "  </thead>\n",
       "  <tbody>\n",
       "    <tr>\n",
       "      <th>0</th>\n",
       "      <td>2006.01.01. 오후 11:23</td>\n",
       "      <td>매일경제</td>\n",
       "      <td>취득세ㆍ등록세 0.5%P씩 인하</td>\n",
       "      <td>0</td>\n",
       "      <td>[취득세, 인하]</td>\n",
       "    </tr>\n",
       "    <tr>\n",
       "      <th>1</th>\n",
       "      <td>2006.01.01. 오후 11:23</td>\n",
       "      <td>매일경제</td>\n",
       "      <td>양도세 부담 덜자 하반기 매물 늘듯</td>\n",
       "      <td>0</td>\n",
       "      <td>[양도세, 부담, 하반기, 매물]</td>\n",
       "    </tr>\n",
       "    <tr>\n",
       "      <th>2</th>\n",
       "      <td>2006.01.01. 오후 11:23</td>\n",
       "      <td>매일경제</td>\n",
       "      <td>서울 대치동 57평형 보유세 651만원</td>\n",
       "      <td>0</td>\n",
       "      <td>[서울, 대치동, 평, 보유, 세, 만, 원]</td>\n",
       "    </tr>\n",
       "    <tr>\n",
       "      <th>3</th>\n",
       "      <td>2006.01.01. 오후 11:23</td>\n",
       "      <td>매일경제</td>\n",
       "      <td>양도세 줄이는 방법 필요경비 증빙서류 꼭 챙기자</td>\n",
       "      <td>0</td>\n",
       "      <td>[양도세, 방법, 필요, 경비, 증빙, 서류]</td>\n",
       "    </tr>\n",
       "    <tr>\n",
       "      <th>4</th>\n",
       "      <td>2006.01.01. 오후 11:23</td>\n",
       "      <td>매일경제</td>\n",
       "      <td>올해 실거래가 신고제 폭풍 이중계약서 관행 사라진다</td>\n",
       "      <td>0</td>\n",
       "      <td>[올해, 실, 거래, 신고, 폭풍, 이중, 계약서, 관행]</td>\n",
       "    </tr>\n",
       "    <tr>\n",
       "      <th>...</th>\n",
       "      <td>...</td>\n",
       "      <td>...</td>\n",
       "      <td>...</td>\n",
       "      <td>...</td>\n",
       "      <td>...</td>\n",
       "    </tr>\n",
       "    <tr>\n",
       "      <th>1065646</th>\n",
       "      <td>2021.06.26. 오전 5:00</td>\n",
       "      <td>뉴시스</td>\n",
       "      <td>비상 걸린 전세⑥전문가들 꼬일 대로 꼬였다…규제라도 풀어야</td>\n",
       "      <td>807</td>\n",
       "      <td>[비상, 전세, 전문가, 대로, 규제]</td>\n",
       "    </tr>\n",
       "    <tr>\n",
       "      <th>1065647</th>\n",
       "      <td>2021.06.26. 오전 3:04</td>\n",
       "      <td>세계일보</td>\n",
       "      <td>‘래미안 원베일리’ 청약에 만점 통장 등장… 올해 두 번째</td>\n",
       "      <td>807</td>\n",
       "      <td>[래미안, 원, 베일리, 청약, 만점, 통장, 등장, 올해, 번]</td>\n",
       "    </tr>\n",
       "    <tr>\n",
       "      <th>1065648</th>\n",
       "      <td>2021.06.26. 오전 3:01</td>\n",
       "      <td>동아일보</td>\n",
       "      <td>‘10억 로또 청약’ 원베일리… 7인 가족 만점통장 나왔다</td>\n",
       "      <td>807</td>\n",
       "      <td>[억, 로또, 청약, 원, 베일리, 인, 가족, 만점, 통장]</td>\n",
       "    </tr>\n",
       "    <tr>\n",
       "      <th>1065649</th>\n",
       "      <td>2021.06.26. 오전 3:01</td>\n",
       "      <td>동아일보</td>\n",
       "      <td>故 이건희 회장 이태원 주택 210억에 매물로</td>\n",
       "      <td>807</td>\n",
       "      <td>[이건희, 회장, 이태원, 주택, 억, 매물]</td>\n",
       "    </tr>\n",
       "    <tr>\n",
       "      <th>1065650</th>\n",
       "      <td>2021.06.26. 오전 12:01</td>\n",
       "      <td>이데일리</td>\n",
       "      <td>전세시장 ‘빨간불’…서울 0.32% 상승</td>\n",
       "      <td>807</td>\n",
       "      <td>[전세, 시장, 빨간불, 서울, 상승]</td>\n",
       "    </tr>\n",
       "  </tbody>\n",
       "</table>\n",
       "<p>1065651 rows × 5 columns</p>\n",
       "</div>"
      ],
      "text/plain": [
       "                         date    co                          headline  week  \\\n",
       "0        2006.01.01. 오후 11:23  매일경제                 취득세ㆍ등록세 0.5%P씩 인하     0   \n",
       "1        2006.01.01. 오후 11:23  매일경제               양도세 부담 덜자 하반기 매물 늘듯     0   \n",
       "2        2006.01.01. 오후 11:23  매일경제             서울 대치동 57평형 보유세 651만원     0   \n",
       "3        2006.01.01. 오후 11:23  매일경제        양도세 줄이는 방법 필요경비 증빙서류 꼭 챙기자     0   \n",
       "4        2006.01.01. 오후 11:23  매일경제      올해 실거래가 신고제 폭풍 이중계약서 관행 사라진다     0   \n",
       "...                       ...   ...                               ...   ...   \n",
       "1065646   2021.06.26. 오전 5:00   뉴시스  비상 걸린 전세⑥전문가들 꼬일 대로 꼬였다…규제라도 풀어야   807   \n",
       "1065647   2021.06.26. 오전 3:04  세계일보  ‘래미안 원베일리’ 청약에 만점 통장 등장… 올해 두 번째   807   \n",
       "1065648   2021.06.26. 오전 3:01  동아일보  ‘10억 로또 청약’ 원베일리… 7인 가족 만점통장 나왔다   807   \n",
       "1065649   2021.06.26. 오전 3:01  동아일보         故 이건희 회장 이태원 주택 210억에 매물로   807   \n",
       "1065650  2021.06.26. 오전 12:01  이데일리            전세시장 ‘빨간불’…서울 0.32% 상승   807   \n",
       "\n",
       "                                          pos  \n",
       "0                                   [취득세, 인하]  \n",
       "1                          [양도세, 부담, 하반기, 매물]  \n",
       "2                   [서울, 대치동, 평, 보유, 세, 만, 원]  \n",
       "3                   [양도세, 방법, 필요, 경비, 증빙, 서류]  \n",
       "4            [올해, 실, 거래, 신고, 폭풍, 이중, 계약서, 관행]  \n",
       "...                                       ...  \n",
       "1065646                 [비상, 전세, 전문가, 대로, 규제]  \n",
       "1065647  [래미안, 원, 베일리, 청약, 만점, 통장, 등장, 올해, 번]  \n",
       "1065648    [억, 로또, 청약, 원, 베일리, 인, 가족, 만점, 통장]  \n",
       "1065649             [이건희, 회장, 이태원, 주택, 억, 매물]  \n",
       "1065650                 [전세, 시장, 빨간불, 서울, 상승]  \n",
       "\n",
       "[1065651 rows x 5 columns]"
      ]
     },
     "execution_count": 1,
     "metadata": {},
     "output_type": "execute_result"
    }
   ],
   "source": [
    "import pandas as pd\n",
    "import glob\n",
    "\n",
    "file_name = glob.glob('../article/headline_noun_keyword*')\n",
    "\n",
    "keyword_df = []\n",
    "for file in file_name:\n",
    "    df = pd.read_pickle(file)\n",
    "    keyword_df.append(df)\n",
    "\n",
    "keyword_all = pd.concat(keyword_df, ignore_index = True)\n",
    "keyword = keyword_all[keyword_all['week'] <= 807]\n",
    "keyword"
   ]
  },
  {
   "cell_type": "code",
   "execution_count": 2,
   "metadata": {},
   "outputs": [],
   "source": [
    "def list2string(word_list):\n",
    "    result = \" \"\n",
    "    for w in word_list:\n",
    "        result += w + ' '\n",
    "    return result"
   ]
  },
  {
   "cell_type": "code",
   "execution_count": 3,
   "metadata": {},
   "outputs": [],
   "source": [
    "weekly_keyword = keyword.groupby(['week']).sum()['pos']\n",
    "corpus = [list2string(word_list) for word_list in weekly_keyword]"
   ]
  },
  {
   "cell_type": "markdown",
   "metadata": {},
   "source": [
    "## 분석방법\n",
    "1. case별 단어들에 대한 TF-IDF(a)를 구한다.\n",
    "2. 전체 단어들에 대한 TF-IDF(b)를 구한다.\n",
    "3. 두 값을 비교하여 특정 case내에서 저 중요하게 쓰이는(a > b) 단어를 찾아낸다."
   ]
  },
  {
   "cell_type": "code",
   "execution_count": 4,
   "metadata": {},
   "outputs": [
    {
     "name": "stdout",
     "output_type": "stream",
     "text": [
      "(808, 47509)\n"
     ]
    }
   ],
   "source": [
    "from sklearn.feature_extraction.text import TfidfVectorizer\n",
    "vectorizer = TfidfVectorizer()\n",
    "X = vectorizer.fit_transform(corpus)\n",
    "print(X.shape)"
   ]
  },
  {
   "cell_type": "code",
   "execution_count": null,
   "metadata": {},
   "outputs": [],
   "source": []
  }
 ],
 "metadata": {
  "kernelspec": {
   "display_name": "Python 3 (ipykernel)",
   "language": "python",
   "name": "python3"
  },
  "language_info": {
   "codemirror_mode": {
    "name": "ipython",
    "version": 3
   },
   "file_extension": ".py",
   "mimetype": "text/x-python",
   "name": "python",
   "nbconvert_exporter": "python",
   "pygments_lexer": "ipython3",
   "version": "3.8.11"
  }
 },
 "nbformat": 4,
 "nbformat_minor": 4
}
