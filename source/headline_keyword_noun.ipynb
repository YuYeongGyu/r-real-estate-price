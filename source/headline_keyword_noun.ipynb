{
 "cells": [
  {
   "cell_type": "markdown",
   "metadata": {},
   "source": [
    "# Info\n",
    ": Mecab을 이용한 명사추출"
   ]
  },
  {
   "cell_type": "code",
   "execution_count": 1,
   "metadata": {},
   "outputs": [],
   "source": [
    "import pandas as pd\n",
    "import pickle"
   ]
  },
  {
   "cell_type": "code",
   "execution_count": 2,
   "metadata": {},
   "outputs": [],
   "source": [
    "keyword1 = pd.read_pickle('../article/weekly_headline_keyword1.pkl')\n",
    "keyword2 = pd.read_pickle('../article/weekly_headline_keyword2.pkl')"
   ]
  },
  {
   "cell_type": "code",
   "execution_count": null,
   "metadata": {},
   "outputs": [],
   "source": [
    "keyword1"
   ]
  },
  {
   "cell_type": "code",
   "execution_count": null,
   "metadata": {},
   "outputs": [],
   "source": [
    "keyword = [keyword1,keyword2]"
   ]
  },
  {
   "cell_type": "code",
   "execution_count": null,
   "metadata": {},
   "outputs": [],
   "source": [
    "from konlpy.tag import Mecab \n",
    "model = Mecab(dicpath=r\"C:\\mecab\\mecab-ko-dic\")"
   ]
  },
  {
   "cell_type": "code",
   "execution_count": null,
   "metadata": {},
   "outputs": [],
   "source": [
    "_list = model.nouns(\"오류보고는 실행환경, 에러메세지와함께 설명을 최대한상세히!^\")"
   ]
  },
  {
   "cell_type": "code",
   "execution_count": null,
   "metadata": {},
   "outputs": [],
   "source": [
    "write_path = '../article/'\n",
    "for i in range(len(keyword)):\n",
    "    print(f'>>> start file{i+1} headline keyword crawling')\n",
    "    df = pd.DataFrame({\n",
    "        'date' : keyword[i]['date'],\n",
    "        'headline' : keyword[i]['headline'],\n",
    "        'pos' : [model.nouns(headline) for headline in keyword[i]['headline']],\n",
    "        'week' : keyword[i]['week']\n",
    "    })\n",
    "    df.to_pickle(f'{write_path}headline_noun_keyword{i+1}.pkl')\n",
    "    print(df)\n",
    "    print(f'>>> complete file{i+1} headline keyword crawling')"
   ]
  },
  {
   "cell_type": "code",
   "execution_count": null,
   "metadata": {},
   "outputs": [],
   "source": []
  }
 ],
 "metadata": {
  "kernelspec": {
   "display_name": "Python 3",
   "language": "python",
   "name": "python3"
  },
  "language_info": {
   "codemirror_mode": {
    "name": "ipython",
    "version": 3
   },
   "file_extension": ".py",
   "mimetype": "text/x-python",
   "name": "python",
   "nbconvert_exporter": "python",
   "pygments_lexer": "ipython3",
   "version": "3.8.8"
  }
 },
 "nbformat": 4,
 "nbformat_minor": 4
}
