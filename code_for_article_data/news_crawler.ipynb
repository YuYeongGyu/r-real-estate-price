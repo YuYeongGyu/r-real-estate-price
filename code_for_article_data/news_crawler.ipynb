{
 "cells": [
  {
   "cell_type": "code",
   "execution_count": 1,
   "metadata": {},
   "outputs": [
    {
     "name": "stdout",
     "output_type": "stream",
     "text": [
      "{'start_year': 2021, 'start_month': 1, 'end_year': 2021, 'end_month': 1}\n",
      "1\n",
      "{'start_year': 2021, 'start_month': 2, 'end_year': 2021, 'end_month': 2}\n",
      "2\n",
      "{'start_year': 2021, 'start_month': 3, 'end_year': 2021, 'end_month': 3}\n",
      "3\n",
      "{'start_year': 2021, 'start_month': 4, 'end_year': 2021, 'end_month': 4}\n",
      "4\n",
      "{'start_year': 2021, 'start_month': 5, 'end_year': 2021, 'end_month': 5}\n",
      "5\n",
      "{'start_year': 2021, 'start_month': 6, 'end_year': 2021, 'end_month': 6}\n",
      "6\n"
     ]
    }
   ],
   "source": [
    "from korea_news_crawler.articlecrawler import ArticleCrawler\n",
    "\n",
    "Crawler = ArticleCrawler()  \n",
    "Crawler.categories['부동산'] = 260\n",
    "\n",
    "Crawler.set_category(\"부동산\")\n",
    "\n",
    "for month in range(1,7):\n",
    "    Crawler.set_date_range(2021, month, 2021, month)\n",
    "    Crawler.start()\n",
    "    print(month)\n"
   ]
  },
  {
   "cell_type": "code",
   "execution_count": 4,
   "metadata": {},
   "outputs": [],
   "source": [
    "import pandas as pd\n",
    "import pickle\n",
    "import glob\n",
    "import datetime\n",
    "\n",
    "read_file = glob.glob('../output/*')\n",
    "column_name = ['date','cat','co','headline','text','url']\n",
    "\n",
    "total_df = pd.DataFrame({\n",
    "    'date' : [],\n",
    "    'cat' : [],\n",
    "    'co' : [],\n",
    "    'headline' : [],\n",
    "    'text' : [],\n",
    "    'url' : [],\n",
    "})\n",
    "\n",
    "start_date = datetime.date(2006,1,1)\n",
    "\n",
    "article_df = []\n",
    "for file in read_file:\n",
    "    df = pd.read_csv(file, names = column_name, encoding = 'cp949')\n",
    "    article_df.append(df)\n",
    "\n",
    "total_df = pd.concat(article_df, ignore_index=True)\n",
    "        \n",
    "total_df['week'] = [(datetime.date((int)(date[:4]),(int)(date[5:7]),(int)(date[8:10]))-start_date).days//7 for date in total_df['date']]"
   ]
  },
  {
   "cell_type": "code",
   "execution_count": 5,
   "metadata": {},
   "outputs": [
    {
     "data": {
      "text/html": [
       "<div>\n",
       "<style scoped>\n",
       "    .dataframe tbody tr th:only-of-type {\n",
       "        vertical-align: middle;\n",
       "    }\n",
       "\n",
       "    .dataframe tbody tr th {\n",
       "        vertical-align: top;\n",
       "    }\n",
       "\n",
       "    .dataframe thead th {\n",
       "        text-align: right;\n",
       "    }\n",
       "</style>\n",
       "<table border=\"1\" class=\"dataframe\">\n",
       "  <thead>\n",
       "    <tr style=\"text-align: right;\">\n",
       "      <th></th>\n",
       "      <th>date</th>\n",
       "      <th>cat</th>\n",
       "      <th>co</th>\n",
       "      <th>headline</th>\n",
       "      <th>text</th>\n",
       "      <th>url</th>\n",
       "      <th>week</th>\n",
       "    </tr>\n",
       "  </thead>\n",
       "  <tbody>\n",
       "    <tr>\n",
       "      <th>0</th>\n",
       "      <td>2006.01.01. 오후 11:23</td>\n",
       "      <td>부동산</td>\n",
       "      <td>매일경제</td>\n",
       "      <td>취득세ㆍ등록세 0.5%P씩 인하</td>\n",
       "      <td>종부세와 양도세 부동산 실거래가 신고제 외에도 8ㆍ31대책으로 새해부터 달라지 는 ...</td>\n",
       "      <td>https://news.naver.com/main/read.nhn?mode=LSD&amp;...</td>\n",
       "      <td>0</td>\n",
       "    </tr>\n",
       "    <tr>\n",
       "      <th>1</th>\n",
       "      <td>2006.01.01. 오후 11:23</td>\n",
       "      <td>부동산</td>\n",
       "      <td>매일경제</td>\n",
       "      <td>양도세 부담 덜자 하반기 매물 늘듯</td>\n",
       "      <td>2차로 매물이 늘어나는 시기로는 올 하반기가 꼽힌다. 내년부터 시행될 1가구 2주 ...</td>\n",
       "      <td>https://news.naver.com/main/read.nhn?mode=LSD&amp;...</td>\n",
       "      <td>0</td>\n",
       "    </tr>\n",
       "    <tr>\n",
       "      <th>2</th>\n",
       "      <td>2006.01.01. 오후 11:23</td>\n",
       "      <td>부동산</td>\n",
       "      <td>매일경제</td>\n",
       "      <td>서울 대치동 57평형 보유세 651만원</td>\n",
       "      <td>8ㆍ31부동산종합대책이 입법 완료됨에 따라 올해 부동산시장이 요동칠 가능성이 커 지...</td>\n",
       "      <td>https://news.naver.com/main/read.nhn?mode=LSD&amp;...</td>\n",
       "      <td>0</td>\n",
       "    </tr>\n",
       "    <tr>\n",
       "      <th>3</th>\n",
       "      <td>2006.01.01. 오후 11:23</td>\n",
       "      <td>부동산</td>\n",
       "      <td>매일경제</td>\n",
       "      <td>양도세 줄이는 방법 필요경비 증빙서류 꼭 챙기자</td>\n",
       "      <td>그 동안 양도세는 대부분 기준시가로 냈고 법정 필요경비로 취득 당시 기준시가 대 비...</td>\n",
       "      <td>https://news.naver.com/main/read.nhn?mode=LSD&amp;...</td>\n",
       "      <td>0</td>\n",
       "    </tr>\n",
       "    <tr>\n",
       "      <th>4</th>\n",
       "      <td>2006.01.01. 오후 11:23</td>\n",
       "      <td>부동산</td>\n",
       "      <td>매일경제</td>\n",
       "      <td>올해 실거래가 신고제 폭풍 이중계약서 관행 사라진다</td>\n",
       "      <td>부동산 실거래가 신고제도가 올해 시행되면서 모든 세금이 실거래가를 기준으로 부 과된...</td>\n",
       "      <td>https://news.naver.com/main/read.nhn?mode=LSD&amp;...</td>\n",
       "      <td>0</td>\n",
       "    </tr>\n",
       "    <tr>\n",
       "      <th>...</th>\n",
       "      <td>...</td>\n",
       "      <td>...</td>\n",
       "      <td>...</td>\n",
       "      <td>...</td>\n",
       "      <td>...</td>\n",
       "      <td>...</td>\n",
       "      <td>...</td>\n",
       "    </tr>\n",
       "    <tr>\n",
       "      <th>1067224</th>\n",
       "      <td>2021.06.30. 오전 4:02</td>\n",
       "      <td>부동산</td>\n",
       "      <td>매일경제</td>\n",
       "      <td>주택 타입 무려 44개…세종 안살아도 청약</td>\n",
       "      <td>7월 아파트 분양 GS건설·태영건설·한신공영 세종자이 더시티 GS건설 컨소시엄 GS...</td>\n",
       "      <td>https://news.naver.com/main/read.naver?mode=LS...</td>\n",
       "      <td>808</td>\n",
       "    </tr>\n",
       "    <tr>\n",
       "      <th>1067225</th>\n",
       "      <td>2021.06.30. 오전 4:02</td>\n",
       "      <td>부동산</td>\n",
       "      <td>매일경제</td>\n",
       "      <td>계양 테크노밸리 인근 직주근접 대단지 아파트</td>\n",
       "      <td>7월 아파트 분양 현대건설·GS건설 힐스테이트 자이 계양 현대건설과 GS건설 컨소시...</td>\n",
       "      <td>https://news.naver.com/main/read.naver?mode=LS...</td>\n",
       "      <td>808</td>\n",
       "    </tr>\n",
       "    <tr>\n",
       "      <th>1067226</th>\n",
       "      <td>2021.06.30. 오전 3:04</td>\n",
       "      <td>부동산</td>\n",
       "      <td>동아일보</td>\n",
       "      <td>전국 상위 20% 주택값 평균 11억 첫 돌파</td>\n",
       "      <td>1월 10억2761만→6월 11억379만원 저가주택과 가격 차 12년만에 최대 전국...</td>\n",
       "      <td>https://news.naver.com/main/read.naver?mode=LS...</td>\n",
       "      <td>808</td>\n",
       "    </tr>\n",
       "    <tr>\n",
       "      <th>1067227</th>\n",
       "      <td>2021.06.30. 오전 2:28</td>\n",
       "      <td>부동산</td>\n",
       "      <td>뉴시스</td>\n",
       "      <td>30평이 3억대…베트남 아파트에 투자해 볼까</td>\n",
       "      <td>하이브랜드 내달 6일 베트남 하노이 역세권 아파트 투자설명회 1가구 2주택 규제 없...</td>\n",
       "      <td>https://news.naver.com/main/read.naver?mode=LS...</td>\n",
       "      <td>808</td>\n",
       "    </tr>\n",
       "    <tr>\n",
       "      <th>1067228</th>\n",
       "      <td>2021.06.30. 오전 12:13</td>\n",
       "      <td>부동산</td>\n",
       "      <td>강원일보</td>\n",
       "      <td>공공임대주택 1741세대 공급</td>\n",
       "      <td>한국토지주택공사 LH 는 강원도민의 주거 안정을 위해 올해 하반기 중 국민·영구·행...</td>\n",
       "      <td>https://news.naver.com/main/read.naver?mode=LS...</td>\n",
       "      <td>808</td>\n",
       "    </tr>\n",
       "  </tbody>\n",
       "</table>\n",
       "<p>1067229 rows × 7 columns</p>\n",
       "</div>"
      ],
      "text/plain": [
       "                         date  cat    co                      headline  \\\n",
       "0        2006.01.01. 오후 11:23  부동산  매일경제             취득세ㆍ등록세 0.5%P씩 인하   \n",
       "1        2006.01.01. 오후 11:23  부동산  매일경제           양도세 부담 덜자 하반기 매물 늘듯   \n",
       "2        2006.01.01. 오후 11:23  부동산  매일경제         서울 대치동 57평형 보유세 651만원   \n",
       "3        2006.01.01. 오후 11:23  부동산  매일경제    양도세 줄이는 방법 필요경비 증빙서류 꼭 챙기자   \n",
       "4        2006.01.01. 오후 11:23  부동산  매일경제  올해 실거래가 신고제 폭풍 이중계약서 관행 사라진다   \n",
       "...                       ...  ...   ...                           ...   \n",
       "1067224   2021.06.30. 오전 4:02  부동산  매일경제       주택 타입 무려 44개…세종 안살아도 청약   \n",
       "1067225   2021.06.30. 오전 4:02  부동산  매일경제      계양 테크노밸리 인근 직주근접 대단지 아파트   \n",
       "1067226   2021.06.30. 오전 3:04  부동산  동아일보     전국 상위 20% 주택값 평균 11억 첫 돌파   \n",
       "1067227   2021.06.30. 오전 2:28  부동산   뉴시스      30평이 3억대…베트남 아파트에 투자해 볼까   \n",
       "1067228  2021.06.30. 오전 12:13  부동산  강원일보              공공임대주택 1741세대 공급   \n",
       "\n",
       "                                                      text  \\\n",
       "0        종부세와 양도세 부동산 실거래가 신고제 외에도 8ㆍ31대책으로 새해부터 달라지 는 ...   \n",
       "1        2차로 매물이 늘어나는 시기로는 올 하반기가 꼽힌다. 내년부터 시행될 1가구 2주 ...   \n",
       "2        8ㆍ31부동산종합대책이 입법 완료됨에 따라 올해 부동산시장이 요동칠 가능성이 커 지...   \n",
       "3        그 동안 양도세는 대부분 기준시가로 냈고 법정 필요경비로 취득 당시 기준시가 대 비...   \n",
       "4        부동산 실거래가 신고제도가 올해 시행되면서 모든 세금이 실거래가를 기준으로 부 과된...   \n",
       "...                                                    ...   \n",
       "1067224  7월 아파트 분양 GS건설·태영건설·한신공영 세종자이 더시티 GS건설 컨소시엄 GS...   \n",
       "1067225  7월 아파트 분양 현대건설·GS건설 힐스테이트 자이 계양 현대건설과 GS건설 컨소시...   \n",
       "1067226  1월 10억2761만→6월 11억379만원 저가주택과 가격 차 12년만에 최대 전국...   \n",
       "1067227  하이브랜드 내달 6일 베트남 하노이 역세권 아파트 투자설명회 1가구 2주택 규제 없...   \n",
       "1067228  한국토지주택공사 LH 는 강원도민의 주거 안정을 위해 올해 하반기 중 국민·영구·행...   \n",
       "\n",
       "                                                       url  week  \n",
       "0        https://news.naver.com/main/read.nhn?mode=LSD&...     0  \n",
       "1        https://news.naver.com/main/read.nhn?mode=LSD&...     0  \n",
       "2        https://news.naver.com/main/read.nhn?mode=LSD&...     0  \n",
       "3        https://news.naver.com/main/read.nhn?mode=LSD&...     0  \n",
       "4        https://news.naver.com/main/read.nhn?mode=LSD&...     0  \n",
       "...                                                    ...   ...  \n",
       "1067224  https://news.naver.com/main/read.naver?mode=LS...   808  \n",
       "1067225  https://news.naver.com/main/read.naver?mode=LS...   808  \n",
       "1067226  https://news.naver.com/main/read.naver?mode=LS...   808  \n",
       "1067227  https://news.naver.com/main/read.naver?mode=LS...   808  \n",
       "1067228  https://news.naver.com/main/read.naver?mode=LS...   808  \n",
       "\n",
       "[1067229 rows x 7 columns]"
      ]
     },
     "execution_count": 5,
     "metadata": {},
     "output_type": "execute_result"
    }
   ],
   "source": [
    "total_df"
   ]
  },
  {
   "cell_type": "markdown",
   "metadata": {},
   "source": [
    "1. text관련 추출"
   ]
  },
  {
   "cell_type": "code",
   "execution_count": 6,
   "metadata": {},
   "outputs": [],
   "source": [
    "del total_df['url']\n",
    "del total_df['cat']"
   ]
  },
  {
   "cell_type": "code",
   "execution_count": 7,
   "metadata": {},
   "outputs": [],
   "source": [
    "write_path = '../article/'\n",
    "\n",
    "#text_pkl = pd.read_pickle('../article/article_text.pkl')\n",
    "#text_pkl = pd.concat([text_pkl,df], ignore_index = True)\n",
    "total_df.to_pickle('../article/article_text.pkl')"
   ]
  },
  {
   "cell_type": "markdown",
   "metadata": {},
   "source": [
    "2. keyword관련 추출"
   ]
  },
  {
   "cell_type": "code",
   "execution_count": null,
   "metadata": {},
   "outputs": [],
   "source": [
    "del total_df['text']\n",
    "#del total_df['url']\n",
    "#del total_df['cat']"
   ]
  },
  {
   "cell_type": "code",
   "execution_count": null,
   "metadata": {},
   "outputs": [],
   "source": [
    "total_df"
   ]
  },
  {
   "cell_type": "code",
   "execution_count": null,
   "metadata": {},
   "outputs": [],
   "source": [
    "from konlpy.tag import Mecab \n",
    "model = Mecab(dicpath=r\"C:\\mecab\\mecab-ko-dic\")"
   ]
  },
  {
   "cell_type": "code",
   "execution_count": null,
   "metadata": {},
   "outputs": [],
   "source": [
    "write_path = '../article/'\n",
    "\n",
    "df = pd.DataFrame({\n",
    "    'date' : total_df['date'],\n",
    "    'co' : total_df['co'],\n",
    "    'headline' : total_df['headline'],\n",
    "    'week' : total_df['week'],\n",
    "    'pos' : [model.nouns(headline) for headline in total_df['headline']]\n",
    "})"
   ]
  },
  {
   "cell_type": "code",
   "execution_count": null,
   "metadata": {},
   "outputs": [],
   "source": [
    "keyword3 = pd.read_pickle('../article/headline_noun_keyword3.pkl')"
   ]
  },
  {
   "cell_type": "code",
   "execution_count": null,
   "metadata": {},
   "outputs": [],
   "source": [
    "keyword3 = pd.concat([keyword3,df], ignore_index = True)"
   ]
  },
  {
   "cell_type": "code",
   "execution_count": null,
   "metadata": {},
   "outputs": [],
   "source": [
    "keyword3.to_pickle('../article/headline_noun_keyword3.pkl')"
   ]
  }
 ],
 "metadata": {
  "kernelspec": {
   "display_name": "Python 3",
   "language": "python",
   "name": "python3"
  },
  "language_info": {
   "codemirror_mode": {
    "name": "ipython",
    "version": 3
   },
   "file_extension": ".py",
   "mimetype": "text/x-python",
   "name": "python",
   "nbconvert_exporter": "python",
   "pygments_lexer": "ipython3",
   "version": "3.7.4"
  }
 },
 "nbformat": 4,
 "nbformat_minor": 4
}
