{
 "cells": [
  {
   "cell_type": "code",
   "execution_count": 6,
   "metadata": {},
   "outputs": [
    {
     "name": "stdout",
     "output_type": "stream",
     "text": [
      "{'start_year': 2021, 'start_month': 1, 'end_year': 2021, 'end_month': 1}\n",
      "1\n",
      "{'start_year': 2021, 'start_month': 2, 'end_year': 2021, 'end_month': 2}\n",
      "2\n",
      "{'start_year': 2021, 'start_month': 3, 'end_year': 2021, 'end_month': 3}\n",
      "3\n",
      "{'start_year': 2021, 'start_month': 4, 'end_year': 2021, 'end_month': 4}\n",
      "4\n",
      "{'start_year': 2021, 'start_month': 5, 'end_year': 2021, 'end_month': 5}\n",
      "5\n",
      "{'start_year': 2021, 'start_month': 6, 'end_year': 2021, 'end_month': 6}\n",
      "6\n"
     ]
    }
   ],
   "source": [
    "from korea_news_crawler.articlecrawler import ArticleCrawler\n",
    "\n",
    "Crawler = ArticleCrawler()  \n",
    "Crawler.categories['부동산'] = 260\n",
    "\n",
    "Crawler.set_category(\"부동산\")  \n",
    "\n",
    "\n",
    "for month in range(1,7):\n",
    "    Crawler.set_date_range(2021, month, 2021, month)\n",
    "    Crawler.start()\n",
    "    print(month)\n"
   ]
  },
  {
   "cell_type": "code",
   "execution_count": 7,
   "metadata": {},
   "outputs": [],
   "source": [
    "import pandas as pd\n",
    "import pickle\n",
    "import glob\n",
    "import datetime\n",
    "\n",
    "read_file = glob.glob('../output/*')\n",
    "column_name = ['date','cat','co','headline','text','url']\n",
    "\n",
    "total_df = pd.DataFrame({\n",
    "    'date' : [],\n",
    "    'cat' : [],\n",
    "    'co' : [],\n",
    "    'headline' : [],\n",
    "    'text' : [],\n",
    "    'url' : [],\n",
    "})\n",
    "\n",
    "start_date = datetime.date(2006,1,1)\n",
    "\n",
    "article_df = []\n",
    "for file in read_file:\n",
    "    df = pd.read_csv(file, names = column_name, encoding = 'cp949')\n",
    "    article_df.append(df)\n",
    "\n",
    "total_df = pd.concat(article_df, ignore_index=True)\n",
    "        \n",
    "total_df['week'] = [(datetime.date((int)(date[:4]),(int)(date[5:7]),(int)(date[8:10]))-start_date).days//7 for date in total_df['date']]"
   ]
  },
  {
   "cell_type": "code",
   "execution_count": 8,
   "metadata": {},
   "outputs": [],
   "source": [
    "del total_df['text']\n",
    "del total_df['url']\n",
    "del total_df['cat']"
   ]
  },
  {
   "cell_type": "code",
   "execution_count": 9,
   "metadata": {},
   "outputs": [
    {
     "data": {
      "text/html": [
       "<div>\n",
       "<style scoped>\n",
       "    .dataframe tbody tr th:only-of-type {\n",
       "        vertical-align: middle;\n",
       "    }\n",
       "\n",
       "    .dataframe tbody tr th {\n",
       "        vertical-align: top;\n",
       "    }\n",
       "\n",
       "    .dataframe thead th {\n",
       "        text-align: right;\n",
       "    }\n",
       "</style>\n",
       "<table border=\"1\" class=\"dataframe\">\n",
       "  <thead>\n",
       "    <tr style=\"text-align: right;\">\n",
       "      <th></th>\n",
       "      <th>date</th>\n",
       "      <th>co</th>\n",
       "      <th>headline</th>\n",
       "      <th>week</th>\n",
       "    </tr>\n",
       "  </thead>\n",
       "  <tbody>\n",
       "    <tr>\n",
       "      <td>0</td>\n",
       "      <td>2021.01.01. 오후 9:50</td>\n",
       "      <td>한국경제</td>\n",
       "      <td>부동산 또 언급한 유시민 불로소득 더 과세해야</td>\n",
       "      <td>782</td>\n",
       "    </tr>\n",
       "    <tr>\n",
       "      <td>1</td>\n",
       "      <td>2021.01.01. 오후 7:04</td>\n",
       "      <td>이데일리</td>\n",
       "      <td>너도나도 새해 집값 오른다…장담하는 이유</td>\n",
       "      <td>782</td>\n",
       "    </tr>\n",
       "    <tr>\n",
       "      <td>2</td>\n",
       "      <td>2021.01.01. 오후 6:16</td>\n",
       "      <td>매일경제</td>\n",
       "      <td>우병탁 세무사 시험 준비하듯 공부했죠</td>\n",
       "      <td>782</td>\n",
       "    </tr>\n",
       "    <tr>\n",
       "      <td>3</td>\n",
       "      <td>2021.01.01. 오후 5:24</td>\n",
       "      <td>세계일보</td>\n",
       "      <td>집값 상승 전망 역대 최고수준…금융기관도 집값 상승 전망</td>\n",
       "      <td>782</td>\n",
       "    </tr>\n",
       "    <tr>\n",
       "      <td>4</td>\n",
       "      <td>2021.01.01. 오후 5:08</td>\n",
       "      <td>한국경제</td>\n",
       "      <td>입주 임박 목동아델리체 전세 매물 20개뿐</td>\n",
       "      <td>782</td>\n",
       "    </tr>\n",
       "    <tr>\n",
       "      <td>...</td>\n",
       "      <td>...</td>\n",
       "      <td>...</td>\n",
       "      <td>...</td>\n",
       "      <td>...</td>\n",
       "    </tr>\n",
       "    <tr>\n",
       "      <td>54262</td>\n",
       "      <td>2021.06.30. 오전 4:02</td>\n",
       "      <td>매일경제</td>\n",
       "      <td>주택 타입 무려 44개…세종 안살아도 청약</td>\n",
       "      <td>808</td>\n",
       "    </tr>\n",
       "    <tr>\n",
       "      <td>54263</td>\n",
       "      <td>2021.06.30. 오전 4:02</td>\n",
       "      <td>매일경제</td>\n",
       "      <td>계양 테크노밸리 인근 직주근접 대단지 아파트</td>\n",
       "      <td>808</td>\n",
       "    </tr>\n",
       "    <tr>\n",
       "      <td>54264</td>\n",
       "      <td>2021.06.30. 오전 3:04</td>\n",
       "      <td>동아일보</td>\n",
       "      <td>전국 상위 20% 주택값 평균 11억 첫 돌파</td>\n",
       "      <td>808</td>\n",
       "    </tr>\n",
       "    <tr>\n",
       "      <td>54265</td>\n",
       "      <td>2021.06.30. 오전 2:28</td>\n",
       "      <td>뉴시스</td>\n",
       "      <td>30평이 3억대…베트남 아파트에 투자해 볼까</td>\n",
       "      <td>808</td>\n",
       "    </tr>\n",
       "    <tr>\n",
       "      <td>54266</td>\n",
       "      <td>2021.06.30. 오전 12:13</td>\n",
       "      <td>강원일보</td>\n",
       "      <td>공공임대주택 1741세대 공급</td>\n",
       "      <td>808</td>\n",
       "    </tr>\n",
       "  </tbody>\n",
       "</table>\n",
       "<p>54267 rows × 4 columns</p>\n",
       "</div>"
      ],
      "text/plain": [
       "                       date    co                         headline  week\n",
       "0       2021.01.01. 오후 9:50  한국경제        부동산 또 언급한 유시민 불로소득 더 과세해야   782\n",
       "1       2021.01.01. 오후 7:04  이데일리           너도나도 새해 집값 오른다…장담하는 이유   782\n",
       "2       2021.01.01. 오후 6:16  매일경제             우병탁 세무사 시험 준비하듯 공부했죠   782\n",
       "3       2021.01.01. 오후 5:24  세계일보  집값 상승 전망 역대 최고수준…금융기관도 집값 상승 전망   782\n",
       "4       2021.01.01. 오후 5:08  한국경제          입주 임박 목동아델리체 전세 매물 20개뿐   782\n",
       "...                     ...   ...                              ...   ...\n",
       "54262   2021.06.30. 오전 4:02  매일경제          주택 타입 무려 44개…세종 안살아도 청약   808\n",
       "54263   2021.06.30. 오전 4:02  매일경제         계양 테크노밸리 인근 직주근접 대단지 아파트   808\n",
       "54264   2021.06.30. 오전 3:04  동아일보        전국 상위 20% 주택값 평균 11억 첫 돌파   808\n",
       "54265   2021.06.30. 오전 2:28   뉴시스         30평이 3억대…베트남 아파트에 투자해 볼까   808\n",
       "54266  2021.06.30. 오전 12:13  강원일보                 공공임대주택 1741세대 공급   808\n",
       "\n",
       "[54267 rows x 4 columns]"
      ]
     },
     "execution_count": 9,
     "metadata": {},
     "output_type": "execute_result"
    }
   ],
   "source": [
    "total_df"
   ]
  },
  {
   "cell_type": "code",
   "execution_count": 10,
   "metadata": {},
   "outputs": [],
   "source": [
    "from konlpy.tag import Mecab \n",
    "model = Mecab(dicpath=r\"C:\\mecab\\mecab-ko-dic\")"
   ]
  },
  {
   "cell_type": "code",
   "execution_count": 11,
   "metadata": {},
   "outputs": [],
   "source": [
    "write_path = '../article/'\n",
    "\n",
    "df = pd.DataFrame({\n",
    "    'date' : total_df['date'],\n",
    "    'co' : total_df['co'],\n",
    "    'headline' : total_df['headline'],\n",
    "    'week' : total_df['week'],\n",
    "    'pos' : [model.nouns(headline) for headline in total_df['headline']]\n",
    "})"
   ]
  },
  {
   "cell_type": "code",
   "execution_count": 20,
   "metadata": {},
   "outputs": [],
   "source": [
    "keyword3 = pd.read_pickle('../article/headline_noun_keyword3.pkl')"
   ]
  },
  {
   "cell_type": "code",
   "execution_count": null,
   "metadata": {},
   "outputs": [],
   "source": [
    "keyword3 = pd.concat([keyword3,df], ignore_index = True)"
   ]
  },
  {
   "cell_type": "code",
   "execution_count": null,
   "metadata": {},
   "outputs": [],
   "source": [
    "keyword3.to_pickle('../article/headline_noun_keyword3.pkl')"
   ]
  }
 ],
 "metadata": {
  "kernelspec": {
   "display_name": "Python 3",
   "language": "python",
   "name": "python3"
  },
  "language_info": {
   "codemirror_mode": {
    "name": "ipython",
    "version": 3
   },
   "file_extension": ".py",
   "mimetype": "text/x-python",
   "name": "python",
   "nbconvert_exporter": "python",
   "pygments_lexer": "ipython3",
   "version": "3.7.4"
  }
 },
 "nbformat": 4,
 "nbformat_minor": 4
}
