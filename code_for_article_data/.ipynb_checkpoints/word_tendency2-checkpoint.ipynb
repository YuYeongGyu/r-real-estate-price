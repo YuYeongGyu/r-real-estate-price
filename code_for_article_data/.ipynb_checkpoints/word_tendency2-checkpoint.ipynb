{
 "cells": [
  {
   "cell_type": "code",
   "execution_count": 1,
   "metadata": {},
   "outputs": [],
   "source": [
    "import pandas as pd\n",
    "import glob\n",
    "\n",
    "file_name = glob.glob('../article/headline_noun_keyword*')\n",
    "\n",
    "keyword_df = []\n",
    "for file in file_name:\n",
    "    df = pd.read_pickle(file)\n",
    "    keyword_df.append(df)\n",
    "\n",
    "keyword = pd.concat(keyword_df, ignore_index = True)\n",
    "keyword"
   ]
  },
  {
   "cell_type": "code",
   "execution_count": 4,
   "metadata": {},
   "outputs": [],
   "source": [
    "def list2string(word_list):\n",
    "    result = \" \"\n",
    "    for w in word_list:\n",
    "        result += w + ' '\n",
    "    return result"
   ]
  },
  {
   "cell_type": "code",
   "execution_count": 5,
   "metadata": {},
   "outputs": [],
   "source": [
    "weekly_keyword = keyword.groupby(['week']).sum()['pos']\n",
    "corpus = [list2string(word_list) for word_list in weekly_keyword]"
   ]
  },
  {
   "cell_type": "markdown",
   "metadata": {},
   "source": [
    "## 분석방법\n",
    "1. case별 단어들에 대한 TF-IDF(a)를 구한다.\n",
    "2. 전체 단어들에 대한 TF-IDF(b)를 구한다.\n",
    "3. 두 값을 비교하여 특정 case내에서 저 중요하게 쓰이는(a > b) 단어를 찾아낸다."
   ]
  },
  {
   "cell_type": "code",
   "execution_count": 6,
   "metadata": {},
   "outputs": [
    {
     "name": "stdout",
     "output_type": "stream",
     "text": [
      "(783, 46614)\n"
     ]
    }
   ],
   "source": [
    "from sklearn.feature_extraction.text import TfidfVectorizer\n",
    "vectorizer = TfidfVectorizer()\n",
    "X = vectorizer.fit_transform(corpus)\n",
    "print(X.shape)"
   ]
  },
  {
   "cell_type": "code",
   "execution_count": null,
   "metadata": {},
   "outputs": [],
   "source": []
  }
 ],
 "metadata": {
  "kernelspec": {
   "display_name": "Python 3",
   "language": "python",
   "name": "python3"
  },
  "language_info": {
   "codemirror_mode": {
    "name": "ipython",
    "version": 3
   },
   "file_extension": ".py",
   "mimetype": "text/x-python",
   "name": "python",
   "nbconvert_exporter": "python",
   "pygments_lexer": "ipython3",
   "version": "3.8.5"
  }
 },
 "nbformat": 4,
 "nbformat_minor": 4
}
