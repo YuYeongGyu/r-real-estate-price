{
 "cells": [
  {
   "cell_type": "code",
   "execution_count": null,
   "metadata": {},
   "outputs": [],
   "source": [
    "from pororo import Pororo\n",
    "ner = Pororo(task=\"ner\", lang=\"ko\")"
   ]
  },
  {
   "cell_type": "code",
   "execution_count": null,
   "metadata": {},
   "outputs": [],
   "source": [
    "import pandas as pd\n",
    "\n",
    "read_path = '../article/weekly_article/'\n",
    "write_path = '../article/headline_keyword/'\n",
    "#column_name = ['date','cat','co','headline','text','url']\n",
    "article = []\n",
    "\n",
    "for week in range(783):\n",
    "    article.append(pd.read_csv(f'{read_path}article_week{week}.csv', encoding = 'cp949'))"
   ]
  },
  {
   "cell_type": "code",
   "execution_count": null,
   "metadata": {},
   "outputs": [],
   "source": [
    "for week in range(783):\n",
    "    print(f'>>> start {week} article headline keyword crawling')\n",
    "    df = pd.DataFrame({\n",
    "        'date' : article[week]['date'],\n",
    "        'headline' : article[week]['headline'],\n",
    "        'keyword' : [ner(headline) for headline in article[week]['headline']]\n",
    "    })\n",
    "    df.to_csv(f'{write_path}week{week}_headline_keyword.csv')\n",
    "    print(f'>>> complete {week} article headline keyword crawling')"
   ]
  }
 ],
 "metadata": {
  "kernelspec": {
   "display_name": "Python 3",
   "language": "python",
   "name": "python3"
  },
  "language_info": {
   "codemirror_mode": {
    "name": "ipython",
    "version": 3
   },
   "file_extension": ".py",
   "mimetype": "text/x-python",
   "name": "python",
   "nbconvert_exporter": "python",
   "pygments_lexer": "ipython3",
   "version": "3.8.5"
  }
 },
 "nbformat": 4,
 "nbformat_minor": 4
}
