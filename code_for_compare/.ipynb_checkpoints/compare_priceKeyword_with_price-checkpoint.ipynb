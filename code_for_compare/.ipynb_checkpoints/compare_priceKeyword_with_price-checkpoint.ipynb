{
 "cells": [
  {
   "cell_type": "code",
   "execution_count": 1,
   "id": "e0468158",
   "metadata": {},
   "outputs": [],
   "source": [
    "import pandas as pd\n",
    "\n",
    "read_path = '../article/headline_keyword/'\n",
    "\n",
    "price_up_df = pd.read_csv(f'{read_path}keyword_about_price_up.csv')\n",
    "price_down_df = pd.read_csv(f'{read_path}keyword_about_price_down.csv')\n",
    "price_stay_df = pd.read_csv(f'{read_path}keyword_about_price_stay.csv')"
   ]
  },
  {
   "cell_type": "code",
   "execution_count": null,
   "id": "7ccb4e0d",
   "metadata": {},
   "outputs": [],
   "source": []
  }
 ],
 "metadata": {
  "kernelspec": {
   "display_name": "Python 3",
   "language": "python",
   "name": "python3"
  },
  "language_info": {
   "codemirror_mode": {
    "name": "ipython",
    "version": 3
   },
   "file_extension": ".py",
   "mimetype": "text/x-python",
   "name": "python",
   "nbconvert_exporter": "python",
   "pygments_lexer": "ipython3",
   "version": "3.8.5"
  }
 },
 "nbformat": 4,
 "nbformat_minor": 5
}
