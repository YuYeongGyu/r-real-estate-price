{
 "cells": [
  {
   "cell_type": "code",
   "execution_count": null,
   "id": "9c0bd9e9",
   "metadata": {},
   "outputs": [],
   "source": [
    "import pandas as pd\n",
    "\n",
    "read_path = '../seoul_apt_trade_data/weekly_trade/'"
   ]
  },
  {
   "cell_type": "code",
   "execution_count": null,
   "id": "fba01410",
   "metadata": {},
   "outputs": [],
   "source": [
    "gu_name = ['강남구','강동구','강서구','강북구','관악구','광진구','구로구','금천구',\n",
    "          '노원구','동대문구','도봉구','동작구','마포구','서대문구','성동구','성북구',\n",
    "          '서초구','송파구','영등포구','용산구','양천구','은평구','종로구','중구','중랑구']\n",
    "\n",
    "many = len(gu_name)"
   ]
  },
  {
   "cell_type": "code",
   "execution_count": null,
   "id": "4938a508",
   "metadata": {},
   "outputs": [],
   "source": [
    "trade_df_array = []\n",
    "\n",
    "for gu in gu_name:    \n",
    "    df = pd.read_csv(f'{read_path}{gu}_trade.csv')\n",
    "    del df['Unnamed: 0']\n",
    "    trade_df_array.append(df)"
   ]
  },
  {
   "cell_type": "code",
   "execution_count": null,
   "id": "da146348",
   "metadata": {},
   "outputs": [],
   "source": [
    "trade_df_array[0]"
   ]
  },
  {
   "cell_type": "code",
   "execution_count": null,
   "id": "f8facdba",
   "metadata": {},
   "outputs": [],
   "source": [
    "import matplotlib.pyplot as plt\n",
    "\n",
    "fig = plt.figure()\n",
    "\n",
    "total_len_array = []\n",
    "total_df_array = []\n",
    "\n",
    "for gu in range(many):\n",
    "    df = trade_df_array[gu]\n",
    "    df1 = df[df['전용면적'] < 40]\n",
    "    df2 = df[(df['전용면적'] >= 40) & (df['전용면적'] < 60)]\n",
    "    df3 = df[(df['전용면적'] >= 60) & (df['전용면적'] < 85)]\n",
    "    df4 = df[(df['전용면적'] >= 85) & (df['전용면적'] < 102)]\n",
    "    df5 = df[(df['전용면적'] >= 102) & (df['전용면적'] < 135)]\n",
    "    df6 = df[(df['전용면적'] >= 135)]\n",
    "\n",
    "    df_array = [df1,df2,df3,df4,df5,df6]\n",
    "    total_df_array.append(df_array)\n",
    "    \n",
    "    len_array = []\n",
    "    for i in range(6):\n",
    "        len_array.append(len(df_array[i]))\n",
    "    ax = fig.add_subplot(5,5,gu+1)\n",
    "    ax.bar([i for i in range(6)], len_array)\n",
    "    \n",
    "    total_len_array.append(len_array)"
   ]
  },
  {
   "cell_type": "code",
   "execution_count": null,
   "id": "989cb8d4",
   "metadata": {},
   "outputs": [],
   "source": [
    "fig = plt.figure()\n",
    "\n",
    "for i in range(25):\n",
    "    total = sum(total_len_array[i])\n",
    "    per_array = []\n",
    "    for j in range(6):\n",
    "        per = total_len_array[i][j]/total\n",
    "        per_array.append(per*100)\n",
    "    ax = fig.add_subplot(5,5,i+1)\n",
    "    ax.pie(per_array)"
   ]
  },
  {
   "cell_type": "code",
   "execution_count": null,
   "id": "1472a599",
   "metadata": {
    "scrolled": true
   },
   "outputs": [],
   "source": [
    "for i in range(25):\n",
    "    for j in range(6):\n",
    "        df =  total_df_array[i][j]\n",
    "        plt.plot(df.groupby(['거래주'])['면적당가격'].mean())\n",
    "        plt.show()\n",
    "        plt.scatter(df['거래주'],df['면적당가격'])\n",
    "        plt.show()\n",
    "        print(f\"{gu_name[i]} {j}크기 총 거래 수:\", len(df))"
   ]
  },
  {
   "cell_type": "code",
   "execution_count": null,
   "id": "67515d6c",
   "metadata": {},
   "outputs": [],
   "source": [
    "dong_name = {}\n",
    "\n",
    "for i in range(len(gu_name)):\n",
    "    dong_name[gu_name[i]] = list(set(trade_df_array[i]['법정동']))"
   ]
  },
  {
   "cell_type": "code",
   "execution_count": null,
   "id": "309741ac",
   "metadata": {
    "scrolled": true
   },
   "outputs": [],
   "source": [
    "for i in range(len(gu_name)):\n",
    "    for dong in dong_name[gu_name[i]]:\n",
    "        df = trade_df_array[i]\n",
    "        df = df[df['법정동'] == dong]\n",
    "        plt.plot(df.groupby(['거래주'])['면적당가격'].mean())\n",
    "        plt.show()\n",
    "        plt.scatter(df['거래주'],df['면적당가격'])\n",
    "        plt.show()\n",
    "        print(f\"{gu_name[i]} {dong} 총 거래 수:\", len(df))"
   ]
  },
  {
   "cell_type": "code",
   "execution_count": null,
   "id": "7d4033b2",
   "metadata": {},
   "outputs": [],
   "source": [
    "for i in range(len(gu_name)):\n",
    "    for dong in dong_name[gu_name[i]]:\n",
    "        df = trade_df_array[i]\n",
    "        df = df[df['법정동'] == dong]\n",
    "        \n",
    "        df1 = df[df['전용면적'] < 40]\n",
    "        df2 = df[(df['전용면적'] >= 40) & (df['전용면적'] < 60)]\n",
    "        df3 = df[(df['전용면적'] >= 60) & (df['전용면적'] < 85)]\n",
    "        df4 = df[(df['전용면적'] >= 85) & (df['전용면적'] < 102)]\n",
    "        df5 = df[(df['전용면적'] >= 102) & (df['전용면적'] < 135)]\n",
    "        df6 = df[(df['전용면적'] >= 135)]\n",
    "\n",
    "        df_array = [df1,df2,df3,df4,df5,df6]\n",
    "        \n",
    "        for j in range(6):\n",
    "            plt.plot(df_array[j].groupby(['거래주'])['면적당가격'].mean())\n",
    "            plt.show()\n",
    "            plt.scatter(df_array[j]['거래주'],df_array[j]['면적당가격'])\n",
    "            plt.show()\n",
    "            print(f\"{gu_name[i]} {dong} {j}크기 총 거래 수:\", len(df_array[j]))"
   ]
  },
  {
   "cell_type": "code",
   "execution_count": null,
   "id": "9ad8ec80",
   "metadata": {},
   "outputs": [],
   "source": [
    "read_path = '../seoul_apt_trade_data/monthly_trade/'\n",
    "\n",
    "trade_monthly_df_array = []\n",
    "\n",
    "for gu in gu_name:    \n",
    "    df = pd.read_csv(f'{read_path}{gu}_trade.csv', encoding = 'cp949')\n",
    "    del df['Unnamed: 0']\n",
    "    df['거래월'] = [date.replace('-','')[:6] for date in df['거래일']]\n",
    "    df['면적당가격'] = df['거래금액']/df['전용면적']\n",
    "    trade_monthly_df_array.append(df)"
   ]
  },
  {
   "cell_type": "code",
   "execution_count": null,
   "id": "6fbb8f56",
   "metadata": {
    "scrolled": true
   },
   "outputs": [],
   "source": [
    "for i in range(len(gu_name)):\n",
    "    for dong in dong_name[gu_name[i]]:\n",
    "        df = trade_monthly_df_array[i]\n",
    "        df = df[df['법정동'] == dong]\n",
    "        plt.plot(df.groupby(['거래월'])['면적당가격'].mean())\n",
    "        plt.show()\n",
    "        plt.scatter(df['거래월'],df['면적당가격'])\n",
    "        plt.show()\n",
    "        print(f\"{gu_name[i]} {dong} 총 거래 수:\", len(df))"
   ]
  },
  {
   "cell_type": "code",
   "execution_count": null,
   "id": "35c83566",
   "metadata": {},
   "outputs": [],
   "source": [
    "for i in range(len(gu_name)):\n",
    "    for dong in dong_name[gu_name[i]]:\n",
    "        df = trade_monthly_df_array[i]\n",
    "        df = df[df['법정동'] == dong]\n",
    "        \n",
    "        df1 = df[df['전용면적'] < 40]\n",
    "        df2 = df[(df['전용면적'] >= 40) & (df['전용면적'] < 60)]\n",
    "        df3 = df[(df['전용면적'] >= 60) & (df['전용면적'] < 85)]\n",
    "        df4 = df[(df['전용면적'] >= 85) & (df['전용면적'] < 102)]\n",
    "        df5 = df[(df['전용면적'] >= 102) & (df['전용면적'] < 135)]\n",
    "        df6 = df[(df['전용면적'] >= 135)]\n",
    "\n",
    "        df_array = [df1,df2,df3,df4,df5,df6]\n",
    "        \n",
    "        for j in range(6):\n",
    "            plt.plot(df_array[j].groupby(['거래월'])['면적당가격'].mean())\n",
    "            plt.show()\n",
    "            plt.scatter(df_array[j]['거래월'],df_array[j]['면적당가격'])\n",
    "            plt.show()\n",
    "            print(f\"{gu_name[i]} {dong} {j}크기 총 거래 수:\", len(df_array[j]))"
   ]
  }
 ],
 "metadata": {
  "kernelspec": {
   "display_name": "Python 3",
   "language": "python",
   "name": "python3"
  },
  "language_info": {
   "codemirror_mode": {
    "name": "ipython",
    "version": 3
   },
   "file_extension": ".py",
   "mimetype": "text/x-python",
   "name": "python",
   "nbconvert_exporter": "python",
   "pygments_lexer": "ipython3",
   "version": "3.8.5"
  }
 },
 "nbformat": 4,
 "nbformat_minor": 5
}
