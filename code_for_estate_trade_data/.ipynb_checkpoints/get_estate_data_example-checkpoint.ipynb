{
 "cells": [
  {
   "cell_type": "code",
   "execution_count": 6,
   "metadata": {},
   "outputs": [
    {
     "name": "stdout",
     "output_type": "stream",
     "text": [
      "\n",
      ">>> PublicDataReader Version : 2021.1.9\n",
      "\n",
      "- Author : Wooil Jeong\n",
      "- E-mail : wooil@kakao.com\n",
      "- Github : https://github.com/WooilJeong/PublicDataReader\n",
      "- Blog : https://wooiljeong.github.io\n",
      "\n",
      ">>> 아파트매매 실거래자료 조회 서비스키 미등록 오류입니다.\n",
      ">>> 아파트매매 실거래 상세 자료 조회 서비스가 정상 작동합니다.\n",
      ">>> 아파트 전월세 자료 조회 서비스가 정상 작동합니다.\n",
      ">>> 아파트 분양권전매 신고 자료 조회 서비스가 정상 작동합니다.\n",
      ">>> 오피스텔 매매 신고 조회 서비스가 정상 작동합니다.\n",
      ">>> 오피스텔 전월세 신고 조회 서비스가 정상 작동합니다.\n",
      ">>> 연립다세대 매매 실거래자료 조회 서비스가 정상 작동합니다.\n",
      ">>> 연립다세대 전월세 실거래자료 조회 서비스가 정상 작동합니다.\n",
      ">>> 단독/다가구 매매 실거래 조회 서비스가 정상 작동합니다.\n",
      ">>> 단독/다가구 전월세 자료 조회 서비스가 정상 작동합니다.\n",
      ">>> 토지 매매 신고 조회 서비스가 정상 작동합니다.\n",
      ">>> 상업업무용 부동산 매매 신고 자료 조회 서비스가 정상 작동합니다.\n"
     ]
    },
    {
     "data": {
      "text/html": [
       "<div>\n",
       "<style scoped>\n",
       "    .dataframe tbody tr th:only-of-type {\n",
       "        vertical-align: middle;\n",
       "    }\n",
       "\n",
       "    .dataframe tbody tr th {\n",
       "        vertical-align: top;\n",
       "    }\n",
       "\n",
       "    .dataframe thead th {\n",
       "        text-align: right;\n",
       "    }\n",
       "</style>\n",
       "<table border=\"1\" class=\"dataframe\">\n",
       "  <thead>\n",
       "    <tr style=\"text-align: right;\">\n",
       "      <th></th>\n",
       "      <th>법정동명</th>\n",
       "      <th>법정구코드</th>\n",
       "    </tr>\n",
       "  </thead>\n",
       "  <tbody>\n",
       "    <tr>\n",
       "      <th>0</th>\n",
       "      <td>경기도 성남시 분당구</td>\n",
       "      <td>41135</td>\n",
       "    </tr>\n",
       "    <tr>\n",
       "      <th>1</th>\n",
       "      <td>경기도 성남시 분당구 분당동</td>\n",
       "      <td>41135</td>\n",
       "    </tr>\n",
       "    <tr>\n",
       "      <th>2</th>\n",
       "      <td>경기도 성남시 분당구 수내동</td>\n",
       "      <td>41135</td>\n",
       "    </tr>\n",
       "    <tr>\n",
       "      <th>3</th>\n",
       "      <td>경기도 성남시 분당구 정자동</td>\n",
       "      <td>41135</td>\n",
       "    </tr>\n",
       "    <tr>\n",
       "      <th>4</th>\n",
       "      <td>경기도 성남시 분당구 율동</td>\n",
       "      <td>41135</td>\n",
       "    </tr>\n",
       "  </tbody>\n",
       "</table>\n",
       "</div>"
      ],
      "text/plain": [
       "              법정동명  법정구코드\n",
       "0      경기도 성남시 분당구  41135\n",
       "1  경기도 성남시 분당구 분당동  41135\n",
       "2  경기도 성남시 분당구 수내동  41135\n",
       "3  경기도 성남시 분당구 정자동  41135\n",
       "4   경기도 성남시 분당구 율동  41135"
      ]
     },
     "metadata": {},
     "output_type": "display_data"
    },
    {
     "name": "stdout",
     "output_type": "stream",
     "text": [
      "조회할 자료가 없습니다.\n"
     ]
    },
    {
     "data": {
      "text/html": [
       "<div>\n",
       "<style scoped>\n",
       "    .dataframe tbody tr th:only-of-type {\n",
       "        vertical-align: middle;\n",
       "    }\n",
       "\n",
       "    .dataframe tbody tr th {\n",
       "        vertical-align: top;\n",
       "    }\n",
       "\n",
       "    .dataframe thead th {\n",
       "        text-align: right;\n",
       "    }\n",
       "</style>\n",
       "<table border=\"1\" class=\"dataframe\">\n",
       "  <thead>\n",
       "    <tr style=\"text-align: right;\">\n",
       "      <th></th>\n",
       "      <th>지역코드</th>\n",
       "      <th>법정동</th>\n",
       "      <th>거래일</th>\n",
       "      <th>아파트</th>\n",
       "      <th>지번</th>\n",
       "      <th>전용면적</th>\n",
       "      <th>층</th>\n",
       "      <th>건축년도</th>\n",
       "      <th>거래금액</th>\n",
       "    </tr>\n",
       "  </thead>\n",
       "  <tbody>\n",
       "  </tbody>\n",
       "</table>\n",
       "</div>"
      ],
      "text/plain": [
       "Empty DataFrame\n",
       "Columns: [지역코드, 법정동, 거래일, 아파트, 지번, 전용면적, 층, 건축년도, 거래금액]\n",
       "Index: []"
      ]
     },
     "metadata": {},
     "output_type": "display_data"
    },
    {
     "name": "stdout",
     "output_type": "stream",
     "text": [
      ">>> LAWD_CD : 41135 DEAL_YMD : 202001\n",
      "조회할 자료가 없습니다.\n",
      ">>> LAWD_CD : 41135 DEAL_YMD : 202002\n",
      "조회할 자료가 없습니다.\n",
      ">>> LAWD_CD : 41135 DEAL_YMD : 202003\n",
      "조회할 자료가 없습니다.\n"
     ]
    },
    {
     "data": {
      "text/html": [
       "<div>\n",
       "<style scoped>\n",
       "    .dataframe tbody tr th:only-of-type {\n",
       "        vertical-align: middle;\n",
       "    }\n",
       "\n",
       "    .dataframe tbody tr th {\n",
       "        vertical-align: top;\n",
       "    }\n",
       "\n",
       "    .dataframe thead th {\n",
       "        text-align: right;\n",
       "    }\n",
       "</style>\n",
       "<table border=\"1\" class=\"dataframe\">\n",
       "  <thead>\n",
       "    <tr style=\"text-align: right;\">\n",
       "      <th></th>\n",
       "      <th>지역코드</th>\n",
       "      <th>법정동</th>\n",
       "      <th>거래일</th>\n",
       "      <th>아파트</th>\n",
       "      <th>지번</th>\n",
       "      <th>전용면적</th>\n",
       "      <th>층</th>\n",
       "      <th>건축년도</th>\n",
       "      <th>거래금액</th>\n",
       "    </tr>\n",
       "  </thead>\n",
       "  <tbody>\n",
       "  </tbody>\n",
       "</table>\n",
       "</div>"
      ],
      "text/plain": [
       "Empty DataFrame\n",
       "Columns: [지역코드, 법정동, 거래일, 아파트, 지번, 전용면적, 층, 건축년도, 거래금액]\n",
       "Index: []"
      ]
     },
     "metadata": {},
     "output_type": "display_data"
    }
   ],
   "source": [
    "import PublicDataReader as pdr\n",
    "print(pdr.__version__)\n",
    "\n",
    "serviceKey = 'Arjt7EQRVOdUPjLvpxVjFg9RvfEbWJb%2Bd5qNQ1h%2B9Q6nF37OgOVZNqGNZy4pW8XiYeBmrSeq%2BYUOi1N%2Bn2kgYg%3D%3D'\n",
    "\n",
    "molit = pdr.Transaction(serviceKey)\n",
    "\n",
    "# 지역코드 조회\n",
    "bdongName = '분당구'\n",
    "codeResult = molit.CodeFinder(bdongName)\n",
    "display(codeResult.head())\n",
    "\n",
    "# 특정 월 아파트매매 실거래 자료 조회\n",
    "df = molit.AptTrade(41135, 202004)\n",
    "display(df.head())\n",
    "\n",
    "# 특정 기간 아파트매매 실거래 자료 조회\n",
    "df_sum = molit.DataCollector(molit.AptTrade, 41135, 202001, 202003)\n",
    "display(df_sum.head())"
   ]
  },
  {
   "cell_type": "code",
   "execution_count": 4,
   "metadata": {},
   "outputs": [
    {
     "data": {
      "text/html": [
       "<div>\n",
       "<style scoped>\n",
       "    .dataframe tbody tr th:only-of-type {\n",
       "        vertical-align: middle;\n",
       "    }\n",
       "\n",
       "    .dataframe tbody tr th {\n",
       "        vertical-align: top;\n",
       "    }\n",
       "\n",
       "    .dataframe thead th {\n",
       "        text-align: right;\n",
       "    }\n",
       "</style>\n",
       "<table border=\"1\" class=\"dataframe\">\n",
       "  <thead>\n",
       "    <tr style=\"text-align: right;\">\n",
       "      <th></th>\n",
       "      <th>지역코드</th>\n",
       "      <th>법정동</th>\n",
       "      <th>거래일</th>\n",
       "      <th>아파트</th>\n",
       "      <th>지번</th>\n",
       "      <th>전용면적</th>\n",
       "      <th>층</th>\n",
       "      <th>건축년도</th>\n",
       "      <th>거래금액</th>\n",
       "    </tr>\n",
       "  </thead>\n",
       "  <tbody>\n",
       "    <tr>\n",
       "      <th>0</th>\n",
       "      <td>41135</td>\n",
       "      <td>구미동</td>\n",
       "      <td>2006-01-02</td>\n",
       "      <td>무지개(10단지)(삼성)</td>\n",
       "      <td>222</td>\n",
       "      <td>101.82</td>\n",
       "      <td>11</td>\n",
       "      <td>1996</td>\n",
       "      <td>58500</td>\n",
       "    </tr>\n",
       "    <tr>\n",
       "      <th>1</th>\n",
       "      <td>41135</td>\n",
       "      <td>구미동</td>\n",
       "      <td>2006-01-03</td>\n",
       "      <td>무지개(4단지)(주공)</td>\n",
       "      <td>220</td>\n",
       "      <td>58.14</td>\n",
       "      <td>4</td>\n",
       "      <td>1995</td>\n",
       "      <td>20400</td>\n",
       "    </tr>\n",
       "    <tr>\n",
       "      <th>2</th>\n",
       "      <td>41135</td>\n",
       "      <td>구미동</td>\n",
       "      <td>2006-01-05</td>\n",
       "      <td>까치마을(3단지)(신원)</td>\n",
       "      <td>66</td>\n",
       "      <td>130.83</td>\n",
       "      <td>2</td>\n",
       "      <td>1995</td>\n",
       "      <td>82000</td>\n",
       "    </tr>\n",
       "    <tr>\n",
       "      <th>3</th>\n",
       "      <td>41135</td>\n",
       "      <td>구미동</td>\n",
       "      <td>2006-01-06</td>\n",
       "      <td>하얀마을(5단지)(주공)</td>\n",
       "      <td>110</td>\n",
       "      <td>39.01</td>\n",
       "      <td>6</td>\n",
       "      <td>1996</td>\n",
       "      <td>11500</td>\n",
       "    </tr>\n",
       "    <tr>\n",
       "      <th>4</th>\n",
       "      <td>41135</td>\n",
       "      <td>구미동</td>\n",
       "      <td>2006-01-07</td>\n",
       "      <td>까치마을(3단지)(신원)</td>\n",
       "      <td>66</td>\n",
       "      <td>130.83</td>\n",
       "      <td>3</td>\n",
       "      <td>1995</td>\n",
       "      <td>87000</td>\n",
       "    </tr>\n",
       "  </tbody>\n",
       "</table>\n",
       "</div>"
      ],
      "text/plain": [
       "    지역코드  법정동        거래일            아파트   지번    전용면적   층  건축년도   거래금액\n",
       "0  41135  구미동 2006-01-02  무지개(10단지)(삼성)  222  101.82  11  1996  58500\n",
       "1  41135  구미동 2006-01-03   무지개(4단지)(주공)  220   58.14   4  1995  20400\n",
       "2  41135  구미동 2006-01-05  까치마을(3단지)(신원)   66  130.83   2  1995  82000\n",
       "3  41135  구미동 2006-01-06  하얀마을(5단지)(주공)  110   39.01   6  1996  11500\n",
       "4  41135  구미동 2006-01-07  까치마을(3단지)(신원)   66  130.83   3  1995  87000"
      ]
     },
     "metadata": {},
     "output_type": "display_data"
    }
   ],
   "source": [
    "df = molit.AptTrade(41135, 200601)\n",
    "display(df.head())"
   ]
  },
  {
   "cell_type": "code",
   "execution_count": 5,
   "metadata": {},
   "outputs": [
    {
     "name": "stdout",
     "output_type": "stream",
     "text": [
      "<class 'pandas.core.frame.DataFrame'>\n",
      "RangeIndex: 93 entries, 0 to 92\n",
      "Data columns (total 9 columns):\n",
      " #   Column  Non-Null Count  Dtype         \n",
      "---  ------  --------------  -----         \n",
      " 0   지역코드    93 non-null     int64         \n",
      " 1   법정동     93 non-null     object        \n",
      " 2   거래일     93 non-null     datetime64[ns]\n",
      " 3   시군구     93 non-null     object        \n",
      " 4   용도지역    93 non-null     object        \n",
      " 5   지목      93 non-null     object        \n",
      " 6   지분거래구분  0 non-null      float64       \n",
      " 7   거래면적    87 non-null     float64       \n",
      " 8   거래금액    93 non-null     int64         \n",
      "dtypes: datetime64[ns](1), float64(2), int64(2), object(4)\n",
      "memory usage: 6.7+ KB\n"
     ]
    },
    {
     "data": {
      "text/plain": [
       "None"
      ]
     },
     "metadata": {},
     "output_type": "display_data"
    }
   ],
   "source": [
    "df = molit.LandTrade(41135, 202010)\n",
    "\n",
    "display(df.info())"
   ]
  },
  {
   "cell_type": "code",
   "execution_count": null,
   "metadata": {},
   "outputs": [],
   "source": []
  }
 ],
 "metadata": {
  "kernelspec": {
   "display_name": "Python 3",
   "language": "python",
   "name": "python3"
  },
  "language_info": {
   "codemirror_mode": {
    "name": "ipython",
    "version": 3
   },
   "file_extension": ".py",
   "mimetype": "text/x-python",
   "name": "python",
   "nbconvert_exporter": "python",
   "pygments_lexer": "ipython3",
   "version": "3.8.3"
  }
 },
 "nbformat": 4,
 "nbformat_minor": 4
}
